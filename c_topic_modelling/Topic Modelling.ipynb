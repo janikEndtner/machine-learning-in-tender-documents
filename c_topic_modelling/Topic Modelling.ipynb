{
 "cells": [
  {
   "cell_type": "markdown",
   "metadata": {},
   "source": [
    "# Imports"
   ]
  },
  {
   "cell_type": "code",
   "execution_count": 2,
   "metadata": {},
   "outputs": [],
   "source": [
    "import sys\n",
    "sys.path.append(\"..\")\n",
    "\n",
    "from services.segments_database import select_chapter_words_by_score, update_chapter_topic, do_query\n",
    "from sklearn.feature_extraction.text import TfidfVectorizer, CountVectorizer\n",
    "from sklearn.decomposition import NMF, LatentDirichletAllocation\n",
    "import numpy as np\n",
    "import pandas as pd\n",
    "from beakerx import *\n",
    "from time import time"
   ]
  },
  {
   "cell_type": "markdown",
   "metadata": {},
   "source": [
    "# Settings"
   ]
  },
  {
   "cell_type": "code",
   "execution_count": 3,
   "metadata": {},
   "outputs": [],
   "source": [
    "no_features = 1000\n",
    "no_topics = 40\n",
    "no_top_words = 10\n",
    "no_top_documents = 2\n",
    "min_score = 0\n",
    "header_weight = 2"
   ]
  },
  {
   "cell_type": "markdown",
   "metadata": {},
   "source": [
    "# Functions"
   ]
  },
  {
   "cell_type": "markdown",
   "metadata": {},
   "source": [
    "returns top words for every topic in topic model"
   ]
  },
  {
   "cell_type": "code",
   "execution_count": 65,
   "metadata": {},
   "outputs": [],
   "source": [
    "def get_topics(H, W, feature_names, chapters, no_top_words, no_top_documents):\n",
    "    topics = {\n",
    "        'id': [],\n",
    "        'word': []\n",
    "    }\n",
    "    for topic_idx, topic in enumerate(H):\n",
    "        topics['id'].append(topic_idx)\n",
    "        topics['word'].append(\" \".join([feature_names[i]\n",
    "                        for i in topic.argsort()[:-no_top_words - 1:-1]]))\n",
    "    return pd.DataFrame(topics)"
   ]
  },
  {
   "cell_type": "markdown",
   "metadata": {},
   "source": [
    "returns most important topic for every row in dataset"
   ]
  },
  {
   "cell_type": "code",
   "execution_count": 66,
   "metadata": {},
   "outputs": [],
   "source": [
    "def get_most_important_topics(H, W, feature_names, no_top_words):\n",
    "    most_important = []\n",
    "    for w in W:\n",
    "        max_id = w.argmax()\n",
    "        topics = \" \".join([feature_names[i]\n",
    "                            for i in H[max_id].argsort()[:-no_top_words - 1:-1]])\n",
    "        most_important.append(topics)\n",
    "        \n",
    "    return most_important"
   ]
  },
  {
   "cell_type": "markdown",
   "metadata": {},
   "source": [
    "given a column_id, this function checks in how many rows this column has the highest value"
   ]
  },
  {
   "cell_type": "code",
   "execution_count": 55,
   "metadata": {},
   "outputs": [],
   "source": [
    "def columnIsHighest(lda_W, column_id):\n",
    "    m = []\n",
    "    df = pd.DataFrame(lda_W)\n",
    "    for index, row in df.iterrows():\n",
    "        # check if column is highest value in row. also check if algorithm didn't guess same value for all cols. round is used because of floating point mistakes.\n",
    "        if row.max() == row[column_id] and round(row.max(), 4) != round(row.mean(), 4):\n",
    "            m.append(index)\n",
    "    return m"
   ]
  },
  {
   "cell_type": "markdown",
   "metadata": {},
   "source": [
    "# Script\n",
    "## Get Chapters and Texts"
   ]
  },
  {
   "cell_type": "code",
   "execution_count": 4,
   "metadata": {},
   "outputs": [
    {
     "data": {
      "text/html": [
       "<div>\n",
       "<style scoped>\n",
       "    .dataframe tbody tr th:only-of-type {\n",
       "        vertical-align: middle;\n",
       "    }\n",
       "\n",
       "    .dataframe tbody tr th {\n",
       "        vertical-align: top;\n",
       "    }\n",
       "\n",
       "    .dataframe thead th {\n",
       "        text-align: right;\n",
       "    }\n",
       "</style>\n",
       "<table border=\"1\" class=\"dataframe\">\n",
       "  <thead>\n",
       "    <tr style=\"text-align: right;\">\n",
       "      <th></th>\n",
       "      <th>chapter_id</th>\n",
       "      <th>text</th>\n",
       "      <th>chapter_number</th>\n",
       "      <th>header</th>\n",
       "      <th>header_preprocessed</th>\n",
       "      <th>parent_header</th>\n",
       "      <th>parent_preprocessed</th>\n",
       "      <th>grandparent_header</th>\n",
       "      <th>grandparent_preprocessed</th>\n",
       "      <th>document_id</th>\n",
       "      <th>preprocessed</th>\n",
       "    </tr>\n",
       "  </thead>\n",
       "  <tbody>\n",
       "    <tr>\n",
       "      <th>0</th>\n",
       "      <td>1</td>\n",
       "      <td>\\nStaatskanzlei\\n\\nRathaus 8750 Glarus\\n\\nTele...</td>\n",
       "      <td>None</td>\n",
       "      <td>\\n</td>\n",
       "      <td></td>\n",
       "      <td></td>\n",
       "      <td></td>\n",
       "      <td></td>\n",
       "      <td></td>\n",
       "      <td>7878</td>\n",
       "      <td>055 09 11 12 15 60 646 8750 fax glarus mail ra...</td>\n",
       "    </tr>\n",
       "    <tr>\n",
       "      <th>1</th>\n",
       "      <td>2</td>\n",
       "      <td>\\nAusschreibungsgegenstand\\n\\nDer Kanton Glaru...</td>\n",
       "      <td>1</td>\n",
       "      <td>Ausschreibung; Arbeiten zur Installation und z...</td>\n",
       "      <td>ausschreibung arbeit installation betrieb elek...</td>\n",
       "      <td></td>\n",
       "      <td></td>\n",
       "      <td></td>\n",
       "      <td></td>\n",
       "      <td>7878</td>\n",
       "      <td>aktiv anforderung anforderungsbereich dabei do...</td>\n",
       "    </tr>\n",
       "    <tr>\n",
       "      <th>2</th>\n",
       "      <td>3</td>\n",
       "      <td>\\nDer Regierungsrat will die elektronische Sti...</td>\n",
       "      <td>2</td>\n",
       "      <td>Ziele Projektziele:\\n</td>\n",
       "      <td>ziel projektziel</td>\n",
       "      <td></td>\n",
       "      <td></td>\n",
       "      <td></td>\n",
       "      <td></td>\n",
       "      <td>7878</td>\n",
       "      <td>2018 2019 ausschreibung bund e elektronisch gl...</td>\n",
       "    </tr>\n",
       "    <tr>\n",
       "      <th>3</th>\n",
       "      <td>4</td>\n",
       "      <td>\\nEs wird vorausgesetzt, dass der Anbieter gen...</td>\n",
       "      <td>3</td>\n",
       "      <td>Marktpositionierung und Rolle des Anbieters\\n</td>\n",
       "      <td>marktpositionierung rolle anbieters</td>\n",
       "      <td></td>\n",
       "      <td></td>\n",
       "      <td></td>\n",
       "      <td></td>\n",
       "      <td>7878</td>\n",
       "      <td>anbieter bereitstellung betrieb dass e genügen...</td>\n",
       "    </tr>\n",
       "    <tr>\n",
       "      <th>4</th>\n",
       "      <td>5</td>\n",
       "      <td>\\nDie nachfolgende Grafik zeigt die Abgrenzung...</td>\n",
       "      <td>4</td>\n",
       "      <td>Systemabgrenzung\\n</td>\n",
       "      <td>systemabgrenzung</td>\n",
       "      <td></td>\n",
       "      <td></td>\n",
       "      <td></td>\n",
       "      <td></td>\n",
       "      <td>7878</td>\n",
       "      <td>abgrenzung aktivität bestehen betreiben datens...</td>\n",
       "    </tr>\n",
       "  </tbody>\n",
       "</table>\n",
       "</div>"
      ],
      "text/plain": [
       "   chapter_id                                               text  \\\n",
       "0           1  \\nStaatskanzlei\\n\\nRathaus 8750 Glarus\\n\\nTele...   \n",
       "1           2  \\nAusschreibungsgegenstand\\n\\nDer Kanton Glaru...   \n",
       "2           3  \\nDer Regierungsrat will die elektronische Sti...   \n",
       "3           4  \\nEs wird vorausgesetzt, dass der Anbieter gen...   \n",
       "4           5  \\nDie nachfolgende Grafik zeigt die Abgrenzung...   \n",
       "\n",
       "  chapter_number                                             header  \\\n",
       "0           None                                                 \\n   \n",
       "1              1  Ausschreibung; Arbeiten zur Installation und z...   \n",
       "2              2                              Ziele Projektziele:\\n   \n",
       "3              3      Marktpositionierung und Rolle des Anbieters\\n   \n",
       "4              4                                 Systemabgrenzung\\n   \n",
       "\n",
       "                                 header_preprocessed parent_header  \\\n",
       "0                                                                    \n",
       "1  ausschreibung arbeit installation betrieb elek...                 \n",
       "2                                   ziel projektziel                 \n",
       "3                marktpositionierung rolle anbieters                 \n",
       "4                                   systemabgrenzung                 \n",
       "\n",
       "  parent_preprocessed grandparent_header grandparent_preprocessed  \\\n",
       "0                                                                   \n",
       "1                                                                   \n",
       "2                                                                   \n",
       "3                                                                   \n",
       "4                                                                   \n",
       "\n",
       "   document_id                                       preprocessed  \n",
       "0         7878  055 09 11 12 15 60 646 8750 fax glarus mail ra...  \n",
       "1         7878  aktiv anforderung anforderungsbereich dabei do...  \n",
       "2         7878  2018 2019 ausschreibung bund e elektronisch gl...  \n",
       "3         7878  anbieter bereitstellung betrieb dass e genügen...  \n",
       "4         7878  abgrenzung aktivität bestehen betreiben datens...  "
      ]
     },
     "execution_count": 4,
     "metadata": {},
     "output_type": "execute_result"
    }
   ],
   "source": [
    "chapters = select_chapter_words_by_score(min_score)\n",
    "df_chapters = pd.DataFrame(chapters.fetchall())\n",
    "df_chapters.columns = chapters.keys()\n",
    "df_chapters.head()"
   ]
  },
  {
   "cell_type": "markdown",
   "metadata": {},
   "source": [
    "features = chapter content + header_weight * chapter headers\n",
    "because chapter headers is more meaningful than content"
   ]
  },
  {
   "cell_type": "code",
   "execution_count": 5,
   "metadata": {},
   "outputs": [
    {
     "data": {
      "text/plain": [
       "0    055 09 11 12 15 60 646 8750 fax glarus mail ra...\n",
       "1    ausschreibung arbeit installation betrieb elek...\n",
       "2    ziel projektziel ziel projektziel 2018 2019 au...\n",
       "3    marktpositionierung rolle anbieters marktposit...\n",
       "4    systemabgrenzung systemabgrenzung abgrenzung a...\n",
       "dtype: object"
      ]
     },
     "execution_count": 5,
     "metadata": {},
     "output_type": "execute_result"
    }
   ],
   "source": [
    "features = (df_chapters['header_preprocessed'] + \" \").str.repeat(header_weight).str.lstrip() \\\n",
    "            + (df_chapters['parent_preprocessed'] + \" \").str.repeat(header_weight).str.lstrip() \\\n",
    "            + (df_chapters['grandparent_preprocessed'] + \" \").str.repeat(header_weight).str.lstrip() \\\n",
    "            + df_chapters['preprocessed']\n",
    "features = features.str.strip()\n",
    "features.head()"
   ]
  },
  {
   "cell_type": "markdown",
   "metadata": {},
   "source": [
    "## Calculate tf-idf\n",
    "for NMF"
   ]
  },
  {
   "cell_type": "code",
   "execution_count": 67,
   "metadata": {},
   "outputs": [],
   "source": [
    "tfidf_vectorizer = TfidfVectorizer(max_df=0.95, min_df=2, max_features=no_features)\n",
    "tfidf = tfidf_vectorizer.fit_transform(features)\n",
    "tfidf_feature_names = tfidf_vectorizer.get_feature_names()"
   ]
  },
  {
   "cell_type": "markdown",
   "metadata": {},
   "source": [
    "## Calculate tf\n",
    "for LDA"
   ]
  },
  {
   "cell_type": "code",
   "execution_count": 6,
   "metadata": {},
   "outputs": [],
   "source": [
    "tf_vectorizer = CountVectorizer(max_df=0.95, min_df=2, max_features=no_features)\n",
    "tf = tf_vectorizer.fit_transform(features)\n",
    "tf_feature_names = tf_vectorizer.get_feature_names()"
   ]
  },
  {
   "cell_type": "markdown",
   "metadata": {},
   "source": [
    "## Calculate NMF"
   ]
  },
  {
   "cell_type": "code",
   "execution_count": 73,
   "metadata": {},
   "outputs": [
    {
     "name": "stdout",
     "output_type": "stream",
     "text": [
      "calculating model with 5 topics\n",
      "calculating model with 10 topics\n",
      "calculating model with 15 topics\n",
      "calculating model with 20 topics\n",
      "calculating model with 25 topics\n",
      "calculating model with 30 topics\n",
      "calculating model with 35 topics\n",
      "calculating model with 40 topics\n",
      "calculating model with 45 topics\n",
      "calculating model with 50 topics\n",
      "calculating model with 55 topics\n",
      "calculating model with 60 topics\n",
      "calculating model with 65 topics\n",
      "calculating model with 70 topics\n",
      "calculating model with 75 topics\n",
      "calculating model with 80 topics\n",
      "calculating model with 85 topics\n",
      "calculating model with 90 topics\n",
      "calculating model with 95 topics\n",
      "calculating model with 100 topics\n"
     ]
    }
   ],
   "source": [
    "topics_nmf = []\n",
    "no_topics = np.arange(5, 105, 5)\n",
    "\n",
    "for nt in no_topics:\n",
    "    print('calculating model with {} topics'.format(nt))\n",
    "    \n",
    "    nmf_model = NMF(n_components=nt, random_state=1, alpha=.1, l1_ratio=.5, init='nndsvd').fit(tfidf)\n",
    "    nmf_W = nmf_model.transform(tfidf)\n",
    "    nmf_H = nmf_model.components_\n",
    "    \n",
    "    topics_nmf.append({\n",
    "        'no_topics': nt,\n",
    "        'topics': get_topics(nmf_H, nmf_W, tfidf_feature_names, df_chapters['text'], no_top_words, no_top_documents),\n",
    "        'model': nmf_model\n",
    "    })"
   ]
  },
  {
   "cell_type": "markdown",
   "metadata": {},
   "source": [
    "## Calculate LDA"
   ]
  },
  {
   "cell_type": "code",
   "execution_count": 9,
   "metadata": {},
   "outputs": [
    {
     "name": "stdout",
     "output_type": "stream",
     "text": [
      "calculating model with 5 topics\n",
      "calculating model with 10 topics\n",
      "calculating model with 15 topics\n",
      "calculating model with 20 topics\n",
      "calculating model with 25 topics\n",
      "calculating model with 30 topics\n",
      "calculating model with 35 topics\n",
      "calculating model with 40 topics\n",
      "calculating model with 45 topics\n",
      "calculating model with 50 topics\n",
      "calculating model with 55 topics\n",
      "calculating model with 60 topics\n",
      "calculating model with 65 topics\n",
      "calculating model with 70 topics\n",
      "calculating model with 75 topics\n",
      "calculating model with 80 topics\n",
      "calculating model with 85 topics\n",
      "calculating model with 90 topics\n",
      "calculating model with 95 topics\n",
      "calculating model with 100 topics\n"
     ]
    }
   ],
   "source": [
    "topics = []\n",
    "no_topics = np.arange(5, 105, 5)\n",
    "\n",
    "for nt in no_topics:\n",
    "    print('calculating model with {} topics'.format(nt))\n",
    "    \n",
    "    lda_model = LatentDirichletAllocation(n_components=nt, max_iter=15, learning_method='online', learning_offset=50.,random_state=0).fit(tf)\n",
    "    lda_W = lda_model.transform(tf)\n",
    "    lda_H = lda_model.components_\n",
    "    \n",
    "    topics.append({\n",
    "        'no_topics': nt,\n",
    "        'topics': get_topics(lda_H, lda_W, tf_feature_names, df_chapters['text'], no_top_words, no_top_documents),\n",
    "        'model': lda_model\n",
    "    })"
   ]
  },
  {
   "cell_type": "markdown",
   "metadata": {},
   "source": [
    "Save topics as csv"
   ]
  },
  {
   "cell_type": "code",
   "execution_count": 74,
   "metadata": {},
   "outputs": [],
   "source": [
    "for t in topics_nmf:\n",
    "    t['topics'].to_csv('topic_sizes/nmf_{}_15i.csv'.format(t['no_topics']))"
   ]
  },
  {
   "cell_type": "code",
   "execution_count": 75,
   "metadata": {
    "scrolled": false
   },
   "outputs": [
    {
     "name": "stdout",
     "output_type": "stream",
     "text": [
      "31724\n",
      "14015\n",
      "12844\n",
      "11738\n",
      "10918\n",
      "9665\n",
      "7639\n",
      "7281\n",
      "6621\n",
      "6530\n",
      "6099\n",
      "5671\n",
      "5375\n",
      "5375\n",
      "5297\n",
      "5297\n",
      "5933\n",
      "5067\n",
      "5083\n",
      "5106\n"
     ]
    }
   ],
   "source": [
    "to_check = [\n",
    "    [0,4],\n",
    "    [1,4],\n",
    "    [2,4],\n",
    "    [3,4],\n",
    "    [4,4],\n",
    "    [5,4],\n",
    "    [6,4],\n",
    "    [7,4],\n",
    "    [8,4],\n",
    "    [9,4],\n",
    "    [10,4],\n",
    "    [11,4],\n",
    "    [12,4],\n",
    "    [12,4],\n",
    "    [13,4],\n",
    "    [13,4],\n",
    "    [14,4],\n",
    "    [15,4],\n",
    "    [16,4],\n",
    "    [17,4],\n",
    "]\n",
    "for model in to_check:\n",
    "    nmf_W = topics_nmf[model[0]]['model'].transform(tfidf)\n",
    "    m = columnIsHighest(nmf_W, model[1])\n",
    "    print(len(m))"
   ]
  },
  {
   "cell_type": "code",
   "execution_count": null,
   "metadata": {
    "scrolled": true
   },
   "outputs": [],
   "source": [
    "t0 = time()\n",
    "lda_model = LatentDirichletAllocation(n_components=40, max_iter=50, learning_method='online', learning_offset=50.,random_state=0, n_jobs=-1).fit(tf)\n",
    "print(time()-t0)"
   ]
  },
  {
   "cell_type": "code",
   "execution_count": null,
   "metadata": {},
   "outputs": [],
   "source": [
    "lda_W = lda_model.transform(tf)\n",
    "lda_H = lda_model.components_\n",
    "get_topics(lda_H, lda_W, tf_feature_names, df_chapters['text'], no_top_words, no_top_documents).to_csv('topic_sizes/40_50r.csv')\n",
    "get_topics()"
   ]
  },
  {
   "cell_type": "markdown",
   "metadata": {},
   "source": [
    "# Analyze"
   ]
  },
  {
   "cell_type": "markdown",
   "metadata": {},
   "source": [
    "## Display NMF"
   ]
  },
  {
   "cell_type": "code",
   "execution_count": 72,
   "metadata": {},
   "outputs": [
    {
     "data": {
      "text/html": [
       "<div>\n",
       "<style scoped>\n",
       "    .dataframe tbody tr th:only-of-type {\n",
       "        vertical-align: middle;\n",
       "    }\n",
       "\n",
       "    .dataframe tbody tr th {\n",
       "        vertical-align: top;\n",
       "    }\n",
       "\n",
       "    .dataframe thead th {\n",
       "        text-align: right;\n",
       "    }\n",
       "</style>\n",
       "<table border=\"1\" class=\"dataframe\">\n",
       "  <thead>\n",
       "    <tr style=\"text-align: right;\">\n",
       "      <th></th>\n",
       "      <th>id</th>\n",
       "      <th>word</th>\n",
       "    </tr>\n",
       "  </thead>\n",
       "  <tbody>\n",
       "    <tr>\n",
       "      <th>0</th>\n",
       "      <td>0</td>\n",
       "      <td>übrig departement dritter drei dokumentation d...</td>\n",
       "    </tr>\n",
       "    <tr>\n",
       "      <th>1</th>\n",
       "      <td>1</td>\n",
       "      <td>allgemeine unternehmen atb teilnahmebedingung ...</td>\n",
       "    </tr>\n",
       "    <tr>\n",
       "      <th>2</th>\n",
       "      <td>2</td>\n",
       "      <td>angabe unternehmen sonstig administrative weit...</td>\n",
       "    </tr>\n",
       "    <tr>\n",
       "      <th>3</th>\n",
       "      <td>3</td>\n",
       "      <td>übrig departement dritter drei dokumentation d...</td>\n",
       "    </tr>\n",
       "    <tr>\n",
       "      <th>4</th>\n",
       "      <td>4</td>\n",
       "      <td>zuschlagskriterium zk gewichtung eignungsund b...</td>\n",
       "    </tr>\n",
       "    <tr>\n",
       "      <th>5</th>\n",
       "      <td>5</td>\n",
       "      <td>le m2 ausmass pos m3 beton baustelleneinrichtu...</td>\n",
       "    </tr>\n",
       "    <tr>\n",
       "      <th>6</th>\n",
       "      <td>6</td>\n",
       "      <td>bestimmung besonderer 102 objektspezifisch npk...</td>\n",
       "    </tr>\n",
       "    <tr>\n",
       "      <th>7</th>\n",
       "      <td>7</td>\n",
       "      <td>ausschreibung eignungsund organisation gegenst...</td>\n",
       "    </tr>\n",
       "    <tr>\n",
       "      <th>8</th>\n",
       "      <td>8</td>\n",
       "      <td>wto gatt abkommen ja resp nein gemäss vorausse...</td>\n",
       "    </tr>\n",
       "    <tr>\n",
       "      <th>9</th>\n",
       "      <td>9</td>\n",
       "      <td>nr positionstext pos artikel referenzobjekt ab...</td>\n",
       "    </tr>\n",
       "    <tr>\n",
       "      <th>10</th>\n",
       "      <td>10</td>\n",
       "      <td>pos gelten betreffend begriffsdefinition ausma...</td>\n",
       "    </tr>\n",
       "    <tr>\n",
       "      <th>11</th>\n",
       "      <td>11</td>\n",
       "      <td>verfahren offenes offen ausschluss auftragsart...</td>\n",
       "    </tr>\n",
       "    <tr>\n",
       "      <th>12</th>\n",
       "      <td>12</td>\n",
       "      <td>110 111 112 210 113 baustelleneinrichtung 120 ...</td>\n",
       "    </tr>\n",
       "    <tr>\n",
       "      <th>13</th>\n",
       "      <td>13</td>\n",
       "      <td>norm sia 118 2013 regelwerk ergänzung richtlin...</td>\n",
       "    </tr>\n",
       "    <tr>\n",
       "      <th>14</th>\n",
       "      <td>14</td>\n",
       "      <td>termin frist 2019 verfahrensablauf terminprogr...</td>\n",
       "    </tr>\n",
       "    <tr>\n",
       "      <th>15</th>\n",
       "      <td>15</td>\n",
       "      <td>100 120 102 50 npk m2 300 m3 221 zweckbestimmung</td>\n",
       "    </tr>\n",
       "    <tr>\n",
       "      <th>16</th>\n",
       "      <td>16</td>\n",
       "      <td>schlüsselperson referenzen referenzobjekt form...</td>\n",
       "    </tr>\n",
       "    <tr>\n",
       "      <th>17</th>\n",
       "      <td>17</td>\n",
       "      <td>unterlage einzureichende ausgefüllt einzureich...</td>\n",
       "    </tr>\n",
       "    <tr>\n",
       "      <th>18</th>\n",
       "      <td>18</td>\n",
       "      <td>gemäss werkvertrag ziffer vorgesehen sicherhei...</td>\n",
       "    </tr>\n",
       "    <tr>\n",
       "      <th>19</th>\n",
       "      <td>19</td>\n",
       "      <td>angebot einreichung einreichen vollständig eva...</td>\n",
       "    </tr>\n",
       "    <tr>\n",
       "      <th>20</th>\n",
       "      <td>20</td>\n",
       "      <td>zürich stadt vertragspartnerinnen verhaltensko...</td>\n",
       "    </tr>\n",
       "    <tr>\n",
       "      <th>21</th>\n",
       "      <td>21</td>\n",
       "      <td>total et lv übertragen 700 500 800 211 001 400</td>\n",
       "    </tr>\n",
       "    <tr>\n",
       "      <th>22</th>\n",
       "      <td>22</td>\n",
       "      <td>beilage eignungsund formular einreichen organi...</td>\n",
       "    </tr>\n",
       "    <tr>\n",
       "      <th>23</th>\n",
       "      <td>23</td>\n",
       "      <td>sprache deutsch verfahrenssprache angebotsunte...</td>\n",
       "    </tr>\n",
       "    <tr>\n",
       "      <th>24</th>\n",
       "      <td>24</td>\n",
       "      <td>los aufteilung bauauftrag vorsehen verschieden...</td>\n",
       "    </tr>\n",
       "    <tr>\n",
       "      <th>25</th>\n",
       "      <td>25</td>\n",
       "      <td>submission grundlage submissionsunterlage flug...</td>\n",
       "    </tr>\n",
       "    <tr>\n",
       "      <th>26</th>\n",
       "      <td>26</td>\n",
       "      <td>auftraggeber auftraggebers vertraulichkeit auf...</td>\n",
       "    </tr>\n",
       "    <tr>\n",
       "      <th>27</th>\n",
       "      <td>27</td>\n",
       "      <td>232 236 81 51 installation 237 22 allgemein in...</td>\n",
       "    </tr>\n",
       "    <tr>\n",
       "      <th>28</th>\n",
       "      <td>28</td>\n",
       "      <td>eignungskriterium erfüllen ek leistungsfähigke...</td>\n",
       "    </tr>\n",
       "    <tr>\n",
       "      <th>29</th>\n",
       "      <td>29</td>\n",
       "      <td>anbieters selbstdeklaration bestätigung formul...</td>\n",
       "    </tr>\n",
       "    <tr>\n",
       "      <th>...</th>\n",
       "      <td>...</td>\n",
       "      <td>...</td>\n",
       "    </tr>\n",
       "    <tr>\n",
       "      <th>70</th>\n",
       "      <td>70</td>\n",
       "      <td>typ fabrikat gleichwertig offerieren stk gröss...</td>\n",
       "    </tr>\n",
       "    <tr>\n",
       "      <th>71</th>\n",
       "      <td>71</td>\n",
       "      <td>frist bauablauf 600 prämie strafe bauprogramm ...</td>\n",
       "    </tr>\n",
       "    <tr>\n",
       "      <th>72</th>\n",
       "      <td>72</td>\n",
       "      <td>schutz baustelle umgebung person eigentum 500 ...</td>\n",
       "    </tr>\n",
       "    <tr>\n",
       "      <th>73</th>\n",
       "      <td>73</td>\n",
       "      <td>offerte aufbau inhalt kapitel allgemeines anbi...</td>\n",
       "    </tr>\n",
       "    <tr>\n",
       "      <th>74</th>\n",
       "      <td>74</td>\n",
       "      <td>art abs auftraggebers folgen ergänzen bund 118...</td>\n",
       "    </tr>\n",
       "    <tr>\n",
       "      <th>75</th>\n",
       "      <td>75</td>\n",
       "      <td>verfahrensart offenes recht verfahren erfolgen...</td>\n",
       "    </tr>\n",
       "    <tr>\n",
       "      <th>76</th>\n",
       "      <td>76</td>\n",
       "      <td>leistungsverzeichnis npk position sehen kapite...</td>\n",
       "    </tr>\n",
       "    <tr>\n",
       "      <th>77</th>\n",
       "      <td>77</td>\n",
       "      <td>objekt sanierung neubau bauvorhaben armaturen ...</td>\n",
       "    </tr>\n",
       "    <tr>\n",
       "      <th>78</th>\n",
       "      <td>78</td>\n",
       "      <td>01 2017 02 bau 2019 03 besonderer 31 246 05</td>\n",
       "    </tr>\n",
       "    <tr>\n",
       "      <th>79</th>\n",
       "      <td>79</td>\n",
       "      <td>kosten einzurechnen einheitspreis müssen massn...</td>\n",
       "    </tr>\n",
       "    <tr>\n",
       "      <th>80</th>\n",
       "      <td>80</td>\n",
       "      <td>teil submissionsunterlage vertragsurkunde sehe...</td>\n",
       "    </tr>\n",
       "    <tr>\n",
       "      <th>81</th>\n",
       "      <td>81</td>\n",
       "      <td>vergabeverfahren weit werkleistung übersicht b...</td>\n",
       "    </tr>\n",
       "    <tr>\n",
       "      <th>82</th>\n",
       "      <td>82</td>\n",
       "      <td>öffentlich offertöffnung beschaffungswesen 11 ...</td>\n",
       "    </tr>\n",
       "    <tr>\n",
       "      <th>83</th>\n",
       "      <td>83</td>\n",
       "      <td>ausschreibungsverfahren formular beschaffungen...</td>\n",
       "    </tr>\n",
       "    <tr>\n",
       "      <th>84</th>\n",
       "      <td>84</td>\n",
       "      <td>anhang anhänge iwb tiefbau formular merkblatt ...</td>\n",
       "    </tr>\n",
       "    <tr>\n",
       "      <th>85</th>\n",
       "      <td>85</td>\n",
       "      <td>dokument zweck vorliegend sehen pflichtenheft ...</td>\n",
       "    </tr>\n",
       "    <tr>\n",
       "      <th>86</th>\n",
       "      <td>86</td>\n",
       "      <td>montage transport lieferung material inbetrieb...</td>\n",
       "    </tr>\n",
       "    <tr>\n",
       "      <th>87</th>\n",
       "      <td>87</td>\n",
       "      <td>abnahme prüfung werk mangel formelle gemeinsam...</td>\n",
       "    </tr>\n",
       "    <tr>\n",
       "      <th>88</th>\n",
       "      <td>88</td>\n",
       "      <td>bauarbeit 800 baubetrieb auflage bezüglich ver...</td>\n",
       "    </tr>\n",
       "    <tr>\n",
       "      <th>89</th>\n",
       "      <td>89</td>\n",
       "      <td>gerichtsstand recht vertrag anwendbare ausschl...</td>\n",
       "    </tr>\n",
       "    <tr>\n",
       "      <th>90</th>\n",
       "      <td>90</td>\n",
       "      <td>fr 246 armaturen stk 03 pos mwst leitung einga...</td>\n",
       "    </tr>\n",
       "    <tr>\n",
       "      <th>91</th>\n",
       "      <td>91</td>\n",
       "      <td>bau bedingungen chutzdirektion umwelts chäfts ...</td>\n",
       "    </tr>\n",
       "    <tr>\n",
       "      <th>92</th>\n",
       "      <td>92</td>\n",
       "      <td>table eidgenössisches departement ja 25 nein b...</td>\n",
       "    </tr>\n",
       "    <tr>\n",
       "      <th>93</th>\n",
       "      <td>93</td>\n",
       "      <td>200 300 210 eignungsund 400 m3 211 material m2 dn</td>\n",
       "    </tr>\n",
       "    <tr>\n",
       "      <th>94</th>\n",
       "      <td>94</td>\n",
       "      <td>vergütung regiearbeit teuerung preisänderung r...</td>\n",
       "    </tr>\n",
       "    <tr>\n",
       "      <th>95</th>\n",
       "      <td>95</td>\n",
       "      <td>einleitung form verwenden zweck rahmenbedingun...</td>\n",
       "    </tr>\n",
       "    <tr>\n",
       "      <th>96</th>\n",
       "      <td>96</td>\n",
       "      <td>folgend adresse mittels zahlungsbedingungen be...</td>\n",
       "    </tr>\n",
       "    <tr>\n",
       "      <th>97</th>\n",
       "      <td>97</td>\n",
       "      <td>firma arbeitsgemeinschaft arge federführend mi...</td>\n",
       "    </tr>\n",
       "    <tr>\n",
       "      <th>98</th>\n",
       "      <td>98</td>\n",
       "      <td>anlage bestehend werkleitung bauwerk neu leitu...</td>\n",
       "    </tr>\n",
       "    <tr>\n",
       "      <th>99</th>\n",
       "      <td>99</td>\n",
       "      <td>bauleitung bauherrschaft dürfen arbeit baustel...</td>\n",
       "    </tr>\n",
       "  </tbody>\n",
       "</table>\n",
       "<p>100 rows × 2 columns</p>\n",
       "</div>"
      ],
      "text/plain": [
       "    id                                               word\n",
       "0    0  übrig departement dritter drei dokumentation d...\n",
       "1    1  allgemeine unternehmen atb teilnahmebedingung ...\n",
       "2    2  angabe unternehmen sonstig administrative weit...\n",
       "3    3  übrig departement dritter drei dokumentation d...\n",
       "4    4  zuschlagskriterium zk gewichtung eignungsund b...\n",
       "5    5  le m2 ausmass pos m3 beton baustelleneinrichtu...\n",
       "6    6  bestimmung besonderer 102 objektspezifisch npk...\n",
       "7    7  ausschreibung eignungsund organisation gegenst...\n",
       "8    8  wto gatt abkommen ja resp nein gemäss vorausse...\n",
       "9    9  nr positionstext pos artikel referenzobjekt ab...\n",
       "10  10  pos gelten betreffend begriffsdefinition ausma...\n",
       "11  11  verfahren offenes offen ausschluss auftragsart...\n",
       "12  12  110 111 112 210 113 baustelleneinrichtung 120 ...\n",
       "13  13  norm sia 118 2013 regelwerk ergänzung richtlin...\n",
       "14  14  termin frist 2019 verfahrensablauf terminprogr...\n",
       "15  15   100 120 102 50 npk m2 300 m3 221 zweckbestimmung\n",
       "16  16  schlüsselperson referenzen referenzobjekt form...\n",
       "17  17  unterlage einzureichende ausgefüllt einzureich...\n",
       "18  18  gemäss werkvertrag ziffer vorgesehen sicherhei...\n",
       "19  19  angebot einreichung einreichen vollständig eva...\n",
       "20  20  zürich stadt vertragspartnerinnen verhaltensko...\n",
       "21  21     total et lv übertragen 700 500 800 211 001 400\n",
       "22  22  beilage eignungsund formular einreichen organi...\n",
       "23  23  sprache deutsch verfahrenssprache angebotsunte...\n",
       "24  24  los aufteilung bauauftrag vorsehen verschieden...\n",
       "25  25  submission grundlage submissionsunterlage flug...\n",
       "26  26  auftraggeber auftraggebers vertraulichkeit auf...\n",
       "27  27  232 236 81 51 installation 237 22 allgemein in...\n",
       "28  28  eignungskriterium erfüllen ek leistungsfähigke...\n",
       "29  29  anbieters selbstdeklaration bestätigung formul...\n",
       "..  ..                                                ...\n",
       "70  70  typ fabrikat gleichwertig offerieren stk gröss...\n",
       "71  71  frist bauablauf 600 prämie strafe bauprogramm ...\n",
       "72  72  schutz baustelle umgebung person eigentum 500 ...\n",
       "73  73  offerte aufbau inhalt kapitel allgemeines anbi...\n",
       "74  74  art abs auftraggebers folgen ergänzen bund 118...\n",
       "75  75  verfahrensart offenes recht verfahren erfolgen...\n",
       "76  76  leistungsverzeichnis npk position sehen kapite...\n",
       "77  77  objekt sanierung neubau bauvorhaben armaturen ...\n",
       "78  78        01 2017 02 bau 2019 03 besonderer 31 246 05\n",
       "79  79  kosten einzurechnen einheitspreis müssen massn...\n",
       "80  80  teil submissionsunterlage vertragsurkunde sehe...\n",
       "81  81  vergabeverfahren weit werkleistung übersicht b...\n",
       "82  82  öffentlich offertöffnung beschaffungswesen 11 ...\n",
       "83  83  ausschreibungsverfahren formular beschaffungen...\n",
       "84  84  anhang anhänge iwb tiefbau formular merkblatt ...\n",
       "85  85  dokument zweck vorliegend sehen pflichtenheft ...\n",
       "86  86  montage transport lieferung material inbetrieb...\n",
       "87  87  abnahme prüfung werk mangel formelle gemeinsam...\n",
       "88  88  bauarbeit 800 baubetrieb auflage bezüglich ver...\n",
       "89  89  gerichtsstand recht vertrag anwendbare ausschl...\n",
       "90  90  fr 246 armaturen stk 03 pos mwst leitung einga...\n",
       "91  91  bau bedingungen chutzdirektion umwelts chäfts ...\n",
       "92  92  table eidgenössisches departement ja 25 nein b...\n",
       "93  93  200 300 210 eignungsund 400 m3 211 material m2 dn\n",
       "94  94  vergütung regiearbeit teuerung preisänderung r...\n",
       "95  95  einleitung form verwenden zweck rahmenbedingun...\n",
       "96  96  folgend adresse mittels zahlungsbedingungen be...\n",
       "97  97  firma arbeitsgemeinschaft arge federführend mi...\n",
       "98  98  anlage bestehend werkleitung bauwerk neu leitu...\n",
       "99  99  bauleitung bauherrschaft dürfen arbeit baustel...\n",
       "\n",
       "[100 rows x 2 columns]"
      ]
     },
     "execution_count": 72,
     "metadata": {},
     "output_type": "execute_result"
    }
   ],
   "source": [
    "nmf_topics = get_topics(nmf_H, nmf_W, tfidf_feature_names, df_chapters['text'], no_top_words, no_top_documents)\n",
    "nmf_topics"
   ]
  },
  {
   "cell_type": "markdown",
   "metadata": {},
   "source": [
    "## Display LDA"
   ]
  },
  {
   "cell_type": "code",
   "execution_count": null,
   "metadata": {
    "scrolled": true
   },
   "outputs": [],
   "source": [
    "topics_lda = get_topics(lda_H, lda_W, tf_feature_names, df_chapters['text'], no_top_words, no_top_documents)\n",
    "topics_lda"
   ]
  },
  {
   "cell_type": "markdown",
   "metadata": {},
   "source": [
    "## concat scores and chapters"
   ]
  },
  {
   "cell_type": "markdown",
   "metadata": {},
   "source": [
    "## Save"
   ]
  },
  {
   "cell_type": "markdown",
   "metadata": {},
   "source": [
    "save the 5 most important topics"
   ]
  },
  {
   "cell_type": "code",
   "execution_count": null,
   "metadata": {},
   "outputs": [],
   "source": [
    "def find_highest_five(nmf_W):\n",
    "    highest_five = []\n",
    "    for i, w in enumerate(nmf_W):\n",
    "        found = False\n",
    "        for h in highest_five:\n",
    "            if w >= h['value']:\n",
    "                highest_five.append({\n",
    "                    'index': i,\n",
    "                    'value': w\n",
    "                })\n",
    "                found = True\n",
    "                break\n",
    "        if len(highest_five) < 5 and not found:\n",
    "            highest_five.append({\n",
    "                'index': i,\n",
    "                'value': w\n",
    "            })\n",
    "        highest_five = sorted(highest_five, key=lambda x: x['value'], reverse=True)[0:5]\n",
    "    return highest_five"
   ]
  },
  {
   "cell_type": "code",
   "execution_count": null,
   "metadata": {
    "scrolled": true
   },
   "outputs": [],
   "source": [
    "l = []\n",
    "for w in nmf_W:\n",
    "    l.append(find_highest_five(w))\n",
    "nmf_df = pd.DataFrame(l)\n",
    "nmf_df.columns = ['topic_1', 'topic_2', 'topic_3', 'topic_4', 'topic_5']\n",
    "nmf_df.insert(0, 'features', features)\n",
    "nmf_df = pd.concat([df_chapters.iloc[:,0:4], nmf_df], axis=1)\n",
    "nmf_df.head()"
   ]
  },
  {
   "cell_type": "code",
   "execution_count": null,
   "metadata": {},
   "outputs": [],
   "source": [
    "l = []\n",
    "for w in nmf_W:\n",
    "    l.append(find_highest_five(w))"
   ]
  },
  {
   "cell_type": "code",
   "execution_count": null,
   "metadata": {},
   "outputs": [],
   "source": [
    "print(nmf_W.shape)\n",
    "print(len(l))"
   ]
  },
  {
   "cell_type": "code",
   "execution_count": null,
   "metadata": {
    "scrolled": true
   },
   "outputs": [],
   "source": [
    "nmf_df2 = df_chapters.iloc[:,0:4]\n",
    "nmf_df2['topic_1'] = Series(map(lambda x: x[0], l), index=nmf_df2.index)\n",
    "nmf_df2['topic_2'] = Series(map(lambda x: x[1], l), index=nmf_df2.index)\n",
    "nmf_df2['topic_3'] = Series(map(lambda x: x[2], l), index=nmf_df2.index)\n",
    "nmf_df2['topic_4'] = Series(map(lambda x: x[3], l), index=nmf_df2.index)\n",
    "nmf_df2['topic_5'] = Series(map(lambda x: x[4], l), index=nmf_df2.index)\n",
    "\n",
    "nmf_df2.head()\n",
    "nmf_df = nmf_df2"
   ]
  },
  {
   "cell_type": "code",
   "execution_count": null,
   "metadata": {},
   "outputs": [],
   "source": [
    "for i, d in nmf_df.iterrows():\n",
    "    update_chapter_topic(d['chapter_id'], d['topic_1'], d['topic_2'], d['topic_3'], d['topic_4'], d['topic_5'])\n",
    "    if i % 100 == 0:\n",
    "        print('updating chapter {0} of {1}'.format(i, len(nmf_df)))"
   ]
  },
  {
   "cell_type": "markdown",
   "metadata": {},
   "source": [
    "Inserting topics"
   ]
  },
  {
   "cell_type": "code",
   "execution_count": null,
   "metadata": {},
   "outputs": [],
   "source": [
    "do_query('truncate table topic')\n",
    "for i, topic in nmf_topics.iterrows():\n",
    "    do_query('insert into topic (id, words) values ({0}, \"{1}\")'.format(topic['id'], topic['word']))"
   ]
  },
  {
   "cell_type": "markdown",
   "metadata": {},
   "source": [
    "# Evaluate"
   ]
  },
  {
   "cell_type": "markdown",
   "metadata": {},
   "source": [
    "## Export Tables"
   ]
  },
  {
   "cell_type": "code",
   "execution_count": null,
   "metadata": {},
   "outputs": [],
   "source": [
    "nmf_df.to_csv('nmf_topics.csv')\n",
    "lda_df.to_csv('lda_topics.csv')"
   ]
  },
  {
   "cell_type": "code",
   "execution_count": null,
   "metadata": {},
   "outputs": [],
   "source": []
  }
 ],
 "metadata": {
  "kernelspec": {
   "display_name": "Python 3",
   "language": "python",
   "name": "python3"
  },
  "language_info": {
   "codemirror_mode": {
    "name": "ipython",
    "version": 3
   },
   "file_extension": ".py",
   "mimetype": "text/x-python",
   "name": "python",
   "nbconvert_exporter": "python",
   "pygments_lexer": "ipython3",
   "version": "3.7.1"
  },
  "toc": {
   "base_numbering": 1,
   "nav_menu": {},
   "number_sections": false,
   "sideBar": false,
   "skip_h1_title": false,
   "title_cell": "Table of Contents",
   "title_sidebar": "Contents",
   "toc_cell": false,
   "toc_position": {},
   "toc_section_display": false,
   "toc_window_display": false
  },
  "varInspector": {
   "cols": {
    "lenName": 16,
    "lenType": 16,
    "lenVar": 40
   },
   "kernels_config": {
    "python": {
     "delete_cmd_postfix": "",
     "delete_cmd_prefix": "del ",
     "library": "var_list.py",
     "varRefreshCmd": "print(var_dic_list())"
    },
    "r": {
     "delete_cmd_postfix": ") ",
     "delete_cmd_prefix": "rm(",
     "library": "var_list.r",
     "varRefreshCmd": "cat(var_dic_list()) "
    }
   },
   "position": {
    "height": "144.45px",
    "left": "1164.4px",
    "right": "20px",
    "top": "121px",
    "width": "350px"
   },
   "types_to_exclude": [
    "module",
    "function",
    "builtin_function_or_method",
    "instance",
    "_Feature"
   ],
   "window_display": true
  }
 },
 "nbformat": 4,
 "nbformat_minor": 2
}
