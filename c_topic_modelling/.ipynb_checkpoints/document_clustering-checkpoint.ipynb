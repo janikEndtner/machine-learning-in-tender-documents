{
 "cells": [
  {
   "cell_type": "code",
   "execution_count": 1,
   "metadata": {},
   "outputs": [],
   "source": [
    "import sys\n",
    "sys.path.append(\"..\")\n",
    "\n",
    "from services.segments_database import select_chapter_words_by_score, update_chapter_topic, do_query\n",
    "from sklearn.feature_extraction.text import TfidfVectorizer, CountVectorizer\n",
    "from sklearn.decomposition import NMF, LatentDirichletAllocation\n",
    "from sklearn.cluster import KMeans\n",
    "\n",
    "import numpy as np\n",
    "import pandas as pd\n",
    "from beakerx import *\n",
    "from time import time\n",
    "\n",
    "import matplotlib\n",
    "import matplotlib.pyplot as plt"
   ]
  },
  {
   "cell_type": "markdown",
   "metadata": {},
   "source": [
    "## Settings"
   ]
  },
  {
   "cell_type": "code",
   "execution_count": 2,
   "metadata": {},
   "outputs": [],
   "source": [
    "no_features = 1000\n",
    "no_topics = 40\n",
    "no_top_words = 10\n",
    "no_top_documents = 2\n",
    "min_score = 0\n",
    "header_weight = 2\n",
    "cluster_numbers = np.arange(5, 105, 5)"
   ]
  },
  {
   "cell_type": "markdown",
   "metadata": {},
   "source": [
    "## Get Chapters and Texts"
   ]
  },
  {
   "cell_type": "code",
   "execution_count": 3,
   "metadata": {},
   "outputs": [
    {
     "data": {
      "text/html": [
       "<div>\n",
       "<style scoped>\n",
       "    .dataframe tbody tr th:only-of-type {\n",
       "        vertical-align: middle;\n",
       "    }\n",
       "\n",
       "    .dataframe tbody tr th {\n",
       "        vertical-align: top;\n",
       "    }\n",
       "\n",
       "    .dataframe thead th {\n",
       "        text-align: right;\n",
       "    }\n",
       "</style>\n",
       "<table border=\"1\" class=\"dataframe\">\n",
       "  <thead>\n",
       "    <tr style=\"text-align: right;\">\n",
       "      <th></th>\n",
       "      <th>chapter_id</th>\n",
       "      <th>text</th>\n",
       "      <th>chapter_number</th>\n",
       "      <th>header</th>\n",
       "      <th>header_preprocessed</th>\n",
       "      <th>parent_header</th>\n",
       "      <th>parent_preprocessed</th>\n",
       "      <th>grandparent_header</th>\n",
       "      <th>grandparent_preprocessed</th>\n",
       "      <th>document_id</th>\n",
       "      <th>preprocessed</th>\n",
       "    </tr>\n",
       "  </thead>\n",
       "  <tbody>\n",
       "    <tr>\n",
       "      <th>0</th>\n",
       "      <td>1</td>\n",
       "      <td>\\nStaatskanzlei\\n\\nRathaus 8750 Glarus\\n\\nTele...</td>\n",
       "      <td>None</td>\n",
       "      <td>\\n</td>\n",
       "      <td></td>\n",
       "      <td></td>\n",
       "      <td></td>\n",
       "      <td></td>\n",
       "      <td></td>\n",
       "      <td>7878</td>\n",
       "      <td>055 09 11 12 15 60 646 8750 fax glarus mail ra...</td>\n",
       "    </tr>\n",
       "    <tr>\n",
       "      <th>1</th>\n",
       "      <td>2</td>\n",
       "      <td>\\nAusschreibungsgegenstand\\n\\nDer Kanton Glaru...</td>\n",
       "      <td>1</td>\n",
       "      <td>Ausschreibung; Arbeiten zur Installation und z...</td>\n",
       "      <td>ausschreibung arbeit installation betrieb elek...</td>\n",
       "      <td></td>\n",
       "      <td></td>\n",
       "      <td></td>\n",
       "      <td></td>\n",
       "      <td>7878</td>\n",
       "      <td>aktiv anforderung anforderungsbereich dabei do...</td>\n",
       "    </tr>\n",
       "    <tr>\n",
       "      <th>2</th>\n",
       "      <td>3</td>\n",
       "      <td>\\nDer Regierungsrat will die elektronische Sti...</td>\n",
       "      <td>2</td>\n",
       "      <td>Ziele Projektziele:\\n</td>\n",
       "      <td>ziel projektziel</td>\n",
       "      <td></td>\n",
       "      <td></td>\n",
       "      <td></td>\n",
       "      <td></td>\n",
       "      <td>7878</td>\n",
       "      <td>2018 2019 ausschreibung bund e elektronisch gl...</td>\n",
       "    </tr>\n",
       "    <tr>\n",
       "      <th>3</th>\n",
       "      <td>4</td>\n",
       "      <td>\\nEs wird vorausgesetzt, dass der Anbieter gen...</td>\n",
       "      <td>3</td>\n",
       "      <td>Marktpositionierung und Rolle des Anbieters\\n</td>\n",
       "      <td>marktpositionierung rolle anbieters</td>\n",
       "      <td></td>\n",
       "      <td></td>\n",
       "      <td></td>\n",
       "      <td></td>\n",
       "      <td>7878</td>\n",
       "      <td>anbieter bereitstellung betrieb dass e genügen...</td>\n",
       "    </tr>\n",
       "    <tr>\n",
       "      <th>4</th>\n",
       "      <td>5</td>\n",
       "      <td>\\nDie nachfolgende Grafik zeigt die Abgrenzung...</td>\n",
       "      <td>4</td>\n",
       "      <td>Systemabgrenzung\\n</td>\n",
       "      <td>systemabgrenzung</td>\n",
       "      <td></td>\n",
       "      <td></td>\n",
       "      <td></td>\n",
       "      <td></td>\n",
       "      <td>7878</td>\n",
       "      <td>abgrenzung aktivität bestehen betreiben datens...</td>\n",
       "    </tr>\n",
       "  </tbody>\n",
       "</table>\n",
       "</div>"
      ],
      "text/plain": [
       "   chapter_id                                               text  \\\n",
       "0           1  \\nStaatskanzlei\\n\\nRathaus 8750 Glarus\\n\\nTele...   \n",
       "1           2  \\nAusschreibungsgegenstand\\n\\nDer Kanton Glaru...   \n",
       "2           3  \\nDer Regierungsrat will die elektronische Sti...   \n",
       "3           4  \\nEs wird vorausgesetzt, dass der Anbieter gen...   \n",
       "4           5  \\nDie nachfolgende Grafik zeigt die Abgrenzung...   \n",
       "\n",
       "  chapter_number                                             header  \\\n",
       "0           None                                                 \\n   \n",
       "1              1  Ausschreibung; Arbeiten zur Installation und z...   \n",
       "2              2                              Ziele Projektziele:\\n   \n",
       "3              3      Marktpositionierung und Rolle des Anbieters\\n   \n",
       "4              4                                 Systemabgrenzung\\n   \n",
       "\n",
       "                                 header_preprocessed parent_header  \\\n",
       "0                                                                    \n",
       "1  ausschreibung arbeit installation betrieb elek...                 \n",
       "2                                   ziel projektziel                 \n",
       "3                marktpositionierung rolle anbieters                 \n",
       "4                                   systemabgrenzung                 \n",
       "\n",
       "  parent_preprocessed grandparent_header grandparent_preprocessed  \\\n",
       "0                                                                   \n",
       "1                                                                   \n",
       "2                                                                   \n",
       "3                                                                   \n",
       "4                                                                   \n",
       "\n",
       "   document_id                                       preprocessed  \n",
       "0         7878  055 09 11 12 15 60 646 8750 fax glarus mail ra...  \n",
       "1         7878  aktiv anforderung anforderungsbereich dabei do...  \n",
       "2         7878  2018 2019 ausschreibung bund e elektronisch gl...  \n",
       "3         7878  anbieter bereitstellung betrieb dass e genügen...  \n",
       "4         7878  abgrenzung aktivität bestehen betreiben datens...  "
      ]
     },
     "execution_count": 3,
     "metadata": {},
     "output_type": "execute_result"
    }
   ],
   "source": [
    "chapters = select_chapter_words_by_score(min_score)\n",
    "df_chapters = pd.DataFrame(chapters.fetchall())\n",
    "df_chapters.columns = chapters.keys()\n",
    "df_chapters.head()"
   ]
  },
  {
   "cell_type": "code",
   "execution_count": 4,
   "metadata": {},
   "outputs": [
    {
     "data": {
      "text/plain": [
       "0    055 09 11 12 15 60 646 8750 fax glarus mail ra...\n",
       "1    ausschreibung arbeit installation betrieb elek...\n",
       "2    ziel projektziel ziel projektziel 2018 2019 au...\n",
       "3    marktpositionierung rolle anbieters marktposit...\n",
       "4    systemabgrenzung systemabgrenzung abgrenzung a...\n",
       "dtype: object"
      ]
     },
     "execution_count": 4,
     "metadata": {},
     "output_type": "execute_result"
    }
   ],
   "source": [
    "features = (df_chapters['header_preprocessed'] + \" \").str.repeat(header_weight).str.lstrip() \\\n",
    "            + (df_chapters['parent_preprocessed'] + \" \").str.repeat(header_weight).str.lstrip() \\\n",
    "            + (df_chapters['grandparent_preprocessed'] + \" \").str.repeat(header_weight).str.lstrip() \\\n",
    "            + df_chapters['preprocessed']\n",
    "features = features.str.strip()\n",
    "features.head()"
   ]
  },
  {
   "cell_type": "markdown",
   "metadata": {},
   "source": [
    "## Calculate tf-idf"
   ]
  },
  {
   "cell_type": "code",
   "execution_count": 5,
   "metadata": {},
   "outputs": [],
   "source": [
    "tfidf_vectorizer = TfidfVectorizer(max_df=0.95, min_df=2, max_features=no_features)\n",
    "tfidf = tfidf_vectorizer.fit_transform(features)\n",
    "tfidf_feature_names = tfidf_vectorizer.get_feature_names()"
   ]
  },
  {
   "cell_type": "markdown",
   "metadata": {},
   "source": [
    "## Calculate KMeans"
   ]
  },
  {
   "cell_type": "code",
   "execution_count": null,
   "metadata": {},
   "outputs": [
    {
     "name": "stdout",
     "output_type": "stream",
     "text": [
      "STARTING TO CALCULATE MODEL WITH 5 CLUSTERS\n"
     ]
    }
   ],
   "source": [
    "models = []\n",
    "tt = time()\n",
    "\n",
    "for n_cluster in cluster_numbers: \n",
    "    print('STARTING TO CALCULATE MODEL WITH {} CLUSTERS'.format(n_cluster))\n",
    "    km = KMeans(n_clusters=n_cluster, init='k-means++', max_iter=100, n_init=10,\n",
    "                verbose=False)\n",
    "    t0 = time()\n",
    "    km.fit(tfidf)\n",
    "    print(\"done in %0.3fs\" % (time() - t0))\n",
    "    print('inertia {}'.format(km.inertia_))\n",
    "    \n",
    "    models.append({\n",
    "        'model': km,\n",
    "        'inertia': km.inertia_,\n",
    "        'n_clusters': n_cluster\n",
    "    })\n",
    "    \n",
    "print('FINISHED AFTER '.format(time() - tt))"
   ]
  },
  {
   "cell_type": "markdown",
   "metadata": {},
   "source": [
    "## Plot Inertia"
   ]
  },
  {
   "cell_type": "code",
   "execution_count": null,
   "metadata": {},
   "outputs": [],
   "source": [
    "fig, ax = plt.subplots()\n",
    "ax.plot([model['n_clusters'] for model in models], [model['inertia'] for model in models])\n",
    "\n",
    "ax.set(xlabel='number of clusters', ylabel='inertia')\n",
    "ax.grid()\n",
    "\n",
    "plt.show()"
   ]
  },
  {
   "cell_type": "markdown",
   "metadata": {},
   "source": [
    "## Find most important words"
   ]
  },
  {
   "cell_type": "code",
   "execution_count": null,
   "metadata": {},
   "outputs": [],
   "source": [
    "order_centroids = km.cluster_centers_.argsort()[:, ::-1]\n",
    "terms = tfidf_vectorizer.get_feature_names()"
   ]
  },
  {
   "cell_type": "code",
   "execution_count": null,
   "metadata": {},
   "outputs": [],
   "source": [
    "for i in range(40):\n",
    "        print(\"Cluster %d:\" % i, end='')\n",
    "        for ind in order_centroids[i, :10]:\n",
    "            print(' %s' % terms[ind], end='')\n",
    "        print()"
   ]
  }
 ],
 "metadata": {
  "kernelspec": {
   "display_name": "Python 3",
   "language": "python",
   "name": "python3"
  },
  "language_info": {
   "codemirror_mode": {
    "name": "ipython",
    "version": 3
   },
   "file_extension": ".py",
   "mimetype": "text/x-python",
   "name": "python",
   "nbconvert_exporter": "python",
   "pygments_lexer": "ipython3",
   "version": "3.7.1"
  },
  "toc": {
   "base_numbering": 1,
   "nav_menu": {},
   "number_sections": false,
   "sideBar": false,
   "skip_h1_title": false,
   "title_cell": "Table of Contents",
   "title_sidebar": "Contents",
   "toc_cell": false,
   "toc_position": {},
   "toc_section_display": false,
   "toc_window_display": false
  }
 },
 "nbformat": 4,
 "nbformat_minor": 1
}
