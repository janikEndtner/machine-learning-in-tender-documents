{
 "cells": [
  {
   "cell_type": "code",
   "execution_count": 1,
   "metadata": {},
   "outputs": [],
   "source": [
    "import sys\n",
    "sys.path.append(\"..\")\n",
    "\n",
    "from services.segments_database import select_chapter_words_by_score, update_chapter_topic, do_query\n",
    "from sklearn.feature_extraction.text import TfidfVectorizer, CountVectorizer\n",
    "from sklearn.decomposition import NMF, LatentDirichletAllocation\n",
    "from sklearn.cluster import KMeans\n",
    "\n",
    "import numpy as np\n",
    "import pandas as pd\n",
    "from beakerx import *\n",
    "from time import time\n",
    "\n",
    "import matplotlib\n",
    "import matplotlib.pyplot as plt"
   ]
  },
  {
   "cell_type": "markdown",
   "metadata": {},
   "source": [
    "## Settings"
   ]
  },
  {
   "cell_type": "code",
   "execution_count": 2,
   "metadata": {},
   "outputs": [],
   "source": [
    "no_features = 1000\n",
    "no_topics = 40\n",
    "no_top_words = 10\n",
    "no_top_documents = 2\n",
    "min_score = 0\n",
    "header_weight = 2\n",
    "cluster_numbers = np.arange(5, 105, 5)"
   ]
  },
  {
   "cell_type": "markdown",
   "metadata": {},
   "source": [
    "## Get Chapters and Texts"
   ]
  },
  {
   "cell_type": "code",
   "execution_count": 3,
   "metadata": {},
   "outputs": [
    {
     "data": {
      "text/html": [
       "<div>\n",
       "<style scoped>\n",
       "    .dataframe tbody tr th:only-of-type {\n",
       "        vertical-align: middle;\n",
       "    }\n",
       "\n",
       "    .dataframe tbody tr th {\n",
       "        vertical-align: top;\n",
       "    }\n",
       "\n",
       "    .dataframe thead th {\n",
       "        text-align: right;\n",
       "    }\n",
       "</style>\n",
       "<table border=\"1\" class=\"dataframe\">\n",
       "  <thead>\n",
       "    <tr style=\"text-align: right;\">\n",
       "      <th></th>\n",
       "      <th>chapter_id</th>\n",
       "      <th>text</th>\n",
       "      <th>chapter_number</th>\n",
       "      <th>header</th>\n",
       "      <th>header_preprocessed</th>\n",
       "      <th>parent_header</th>\n",
       "      <th>parent_preprocessed</th>\n",
       "      <th>grandparent_header</th>\n",
       "      <th>grandparent_preprocessed</th>\n",
       "      <th>document_id</th>\n",
       "      <th>preprocessed</th>\n",
       "    </tr>\n",
       "  </thead>\n",
       "  <tbody>\n",
       "    <tr>\n",
       "      <th>0</th>\n",
       "      <td>1</td>\n",
       "      <td>\\nStaatskanzlei\\n\\nRathaus 8750 Glarus\\n\\nTele...</td>\n",
       "      <td>None</td>\n",
       "      <td>\\n</td>\n",
       "      <td></td>\n",
       "      <td></td>\n",
       "      <td></td>\n",
       "      <td></td>\n",
       "      <td></td>\n",
       "      <td>7878</td>\n",
       "      <td>055 09 11 12 15 60 646 8750 fax glarus mail ra...</td>\n",
       "    </tr>\n",
       "    <tr>\n",
       "      <th>1</th>\n",
       "      <td>2</td>\n",
       "      <td>\\nAusschreibungsgegenstand\\n\\nDer Kanton Glaru...</td>\n",
       "      <td>1</td>\n",
       "      <td>Ausschreibung; Arbeiten zur Installation und z...</td>\n",
       "      <td>ausschreibung arbeit installation betrieb elek...</td>\n",
       "      <td></td>\n",
       "      <td></td>\n",
       "      <td></td>\n",
       "      <td></td>\n",
       "      <td>7878</td>\n",
       "      <td>aktiv anforderung anforderungsbereich dabei do...</td>\n",
       "    </tr>\n",
       "    <tr>\n",
       "      <th>2</th>\n",
       "      <td>3</td>\n",
       "      <td>\\nDer Regierungsrat will die elektronische Sti...</td>\n",
       "      <td>2</td>\n",
       "      <td>Ziele Projektziele:\\n</td>\n",
       "      <td>ziel projektziel</td>\n",
       "      <td></td>\n",
       "      <td></td>\n",
       "      <td></td>\n",
       "      <td></td>\n",
       "      <td>7878</td>\n",
       "      <td>2018 2019 ausschreibung bund e elektronisch gl...</td>\n",
       "    </tr>\n",
       "    <tr>\n",
       "      <th>3</th>\n",
       "      <td>4</td>\n",
       "      <td>\\nEs wird vorausgesetzt, dass der Anbieter gen...</td>\n",
       "      <td>3</td>\n",
       "      <td>Marktpositionierung und Rolle des Anbieters\\n</td>\n",
       "      <td>marktpositionierung rolle anbieters</td>\n",
       "      <td></td>\n",
       "      <td></td>\n",
       "      <td></td>\n",
       "      <td></td>\n",
       "      <td>7878</td>\n",
       "      <td>anbieter bereitstellung betrieb dass e genügen...</td>\n",
       "    </tr>\n",
       "    <tr>\n",
       "      <th>4</th>\n",
       "      <td>5</td>\n",
       "      <td>\\nDie nachfolgende Grafik zeigt die Abgrenzung...</td>\n",
       "      <td>4</td>\n",
       "      <td>Systemabgrenzung\\n</td>\n",
       "      <td>systemabgrenzung</td>\n",
       "      <td></td>\n",
       "      <td></td>\n",
       "      <td></td>\n",
       "      <td></td>\n",
       "      <td>7878</td>\n",
       "      <td>abgrenzung aktivität bestehen betreiben datens...</td>\n",
       "    </tr>\n",
       "  </tbody>\n",
       "</table>\n",
       "</div>"
      ],
      "text/plain": [
       "   chapter_id                                               text  \\\n",
       "0           1  \\nStaatskanzlei\\n\\nRathaus 8750 Glarus\\n\\nTele...   \n",
       "1           2  \\nAusschreibungsgegenstand\\n\\nDer Kanton Glaru...   \n",
       "2           3  \\nDer Regierungsrat will die elektronische Sti...   \n",
       "3           4  \\nEs wird vorausgesetzt, dass der Anbieter gen...   \n",
       "4           5  \\nDie nachfolgende Grafik zeigt die Abgrenzung...   \n",
       "\n",
       "  chapter_number                                             header  \\\n",
       "0           None                                                 \\n   \n",
       "1              1  Ausschreibung; Arbeiten zur Installation und z...   \n",
       "2              2                              Ziele Projektziele:\\n   \n",
       "3              3      Marktpositionierung und Rolle des Anbieters\\n   \n",
       "4              4                                 Systemabgrenzung\\n   \n",
       "\n",
       "                                 header_preprocessed parent_header  \\\n",
       "0                                                                    \n",
       "1  ausschreibung arbeit installation betrieb elek...                 \n",
       "2                                   ziel projektziel                 \n",
       "3                marktpositionierung rolle anbieters                 \n",
       "4                                   systemabgrenzung                 \n",
       "\n",
       "  parent_preprocessed grandparent_header grandparent_preprocessed  \\\n",
       "0                                                                   \n",
       "1                                                                   \n",
       "2                                                                   \n",
       "3                                                                   \n",
       "4                                                                   \n",
       "\n",
       "   document_id                                       preprocessed  \n",
       "0         7878  055 09 11 12 15 60 646 8750 fax glarus mail ra...  \n",
       "1         7878  aktiv anforderung anforderungsbereich dabei do...  \n",
       "2         7878  2018 2019 ausschreibung bund e elektronisch gl...  \n",
       "3         7878  anbieter bereitstellung betrieb dass e genügen...  \n",
       "4         7878  abgrenzung aktivität bestehen betreiben datens...  "
      ]
     },
     "execution_count": 3,
     "metadata": {},
     "output_type": "execute_result"
    }
   ],
   "source": [
    "chapters = select_chapter_words_by_score(min_score)\n",
    "df_chapters = pd.DataFrame(chapters.fetchall())\n",
    "df_chapters.columns = chapters.keys()\n",
    "df_chapters.head()"
   ]
  },
  {
   "cell_type": "code",
   "execution_count": 4,
   "metadata": {},
   "outputs": [
    {
     "data": {
      "text/plain": [
       "0    055 09 11 12 15 60 646 8750 fax glarus mail ra...\n",
       "1    ausschreibung arbeit installation betrieb elek...\n",
       "2    ziel projektziel ziel projektziel 2018 2019 au...\n",
       "3    marktpositionierung rolle anbieters marktposit...\n",
       "4    systemabgrenzung systemabgrenzung abgrenzung a...\n",
       "dtype: object"
      ]
     },
     "execution_count": 4,
     "metadata": {},
     "output_type": "execute_result"
    }
   ],
   "source": [
    "features = (df_chapters['header_preprocessed'] + \" \").str.repeat(header_weight).str.lstrip() \\\n",
    "            + (df_chapters['parent_preprocessed'] + \" \").str.repeat(header_weight).str.lstrip() \\\n",
    "            + (df_chapters['grandparent_preprocessed'] + \" \").str.repeat(header_weight).str.lstrip() \\\n",
    "            + df_chapters['preprocessed']\n",
    "features = features.str.strip()\n",
    "features.head()"
   ]
  },
  {
   "cell_type": "markdown",
   "metadata": {},
   "source": [
    "## Calculate tf-idf"
   ]
  },
  {
   "cell_type": "code",
   "execution_count": 5,
   "metadata": {},
   "outputs": [],
   "source": [
    "tfidf_vectorizer = TfidfVectorizer(max_df=0.95, min_df=2, max_features=no_features)\n",
    "tfidf = tfidf_vectorizer.fit_transform(features)\n",
    "tfidf_feature_names = tfidf_vectorizer.get_feature_names()"
   ]
  },
  {
   "cell_type": "markdown",
   "metadata": {},
   "source": [
    "## Calculate KMeans"
   ]
  },
  {
   "cell_type": "code",
   "execution_count": 6,
   "metadata": {},
   "outputs": [
    {
     "name": "stdout",
     "output_type": "stream",
     "text": [
      "STARTING TO CALCULATE MODEL WITH 5 CLUSTERS\n",
      "done in 2022.895s\n",
      "inertia 250931.4129676319\n",
      "STARTING TO CALCULATE MODEL WITH 10 CLUSTERS\n",
      "done in 2411.772s\n",
      "inertia 246013.70840583585\n",
      "STARTING TO CALCULATE MODEL WITH 15 CLUSTERS\n",
      "done in 2582.489s\n",
      "inertia 241887.36715636836\n",
      "STARTING TO CALCULATE MODEL WITH 20 CLUSTERS\n",
      "done in 2657.968s\n",
      "inertia 238791.02455840324\n",
      "STARTING TO CALCULATE MODEL WITH 25 CLUSTERS\n",
      "done in 2547.078s\n",
      "inertia 235279.09904278387\n",
      "STARTING TO CALCULATE MODEL WITH 30 CLUSTERS\n",
      "done in 2718.716s\n",
      "inertia 232137.645807912\n",
      "STARTING TO CALCULATE MODEL WITH 35 CLUSTERS\n",
      "done in 2906.507s\n",
      "inertia 229561.3311898539\n",
      "STARTING TO CALCULATE MODEL WITH 40 CLUSTERS\n",
      "done in 2505.930s\n",
      "inertia 227118.28854409407\n",
      "STARTING TO CALCULATE MODEL WITH 45 CLUSTERS\n",
      "done in 2278.821s\n",
      "inertia 224934.82037485178\n",
      "STARTING TO CALCULATE MODEL WITH 50 CLUSTERS\n",
      "done in 2240.664s\n",
      "inertia 222497.72345674504\n",
      "STARTING TO CALCULATE MODEL WITH 55 CLUSTERS\n",
      "done in 2333.366s\n",
      "inertia 222191.3167940473\n",
      "STARTING TO CALCULATE MODEL WITH 60 CLUSTERS\n",
      "done in 2435.119s\n",
      "inertia 219847.530141776\n",
      "STARTING TO CALCULATE MODEL WITH 65 CLUSTERS\n",
      "done in 2842.871s\n",
      "inertia 216587.84103370432\n",
      "STARTING TO CALCULATE MODEL WITH 70 CLUSTERS\n",
      "done in 3235.965s\n",
      "inertia 215303.7706820292\n",
      "STARTING TO CALCULATE MODEL WITH 75 CLUSTERS\n",
      "done in 2486.859s\n",
      "inertia 213647.72993972502\n",
      "STARTING TO CALCULATE MODEL WITH 80 CLUSTERS\n",
      "done in 2428.862s\n",
      "inertia 212103.81686549098\n",
      "STARTING TO CALCULATE MODEL WITH 85 CLUSTERS\n",
      "done in 2685.175s\n",
      "inertia 213104.9761878111\n",
      "STARTING TO CALCULATE MODEL WITH 90 CLUSTERS\n",
      "done in 3170.851s\n",
      "inertia 211530.64563036247\n",
      "STARTING TO CALCULATE MODEL WITH 95 CLUSTERS\n",
      "done in 2983.632s\n",
      "inertia 207957.90419437856\n",
      "STARTING TO CALCULATE MODEL WITH 100 CLUSTERS\n",
      "done in 3395.987s\n",
      "inertia 206524.68363083957\n",
      "FINISHED AFTER \n"
     ]
    }
   ],
   "source": [
    "models = []\n",
    "tt = time()\n",
    "\n",
    "for n_cluster in cluster_numbers: \n",
    "    print('STARTING TO CALCULATE MODEL WITH {} CLUSTERS'.format(n_cluster))\n",
    "    km = KMeans(n_clusters=n_cluster, init='k-means++', max_iter=100, n_init=10,\n",
    "                verbose=False)\n",
    "    t0 = time()\n",
    "    km.fit(tfidf)\n",
    "    print(\"done in %0.3fs\" % (time() - t0))\n",
    "    print('inertia {}'.format(km.inertia_))\n",
    "    \n",
    "    models.append({\n",
    "        'model': km,\n",
    "        'inertia': km.inertia_,\n",
    "        'n_clusters': n_cluster\n",
    "    })\n",
    "    \n",
    "print('FINISHED AFTER '.format(time() - tt))"
   ]
  },
  {
   "cell_type": "markdown",
   "metadata": {},
   "source": [
    "## Plot Inertia"
   ]
  },
  {
   "cell_type": "code",
   "execution_count": 7,
   "metadata": {},
   "outputs": [
    {
     "data": {
      "image/png": "[encoded data removed]",
      "text/plain": [
       "<Figure size 432x288 with 1 Axes>"
      ]
     },
     "metadata": {
      "needs_background": "light"
     },
     "output_type": "display_data"
    }
   ],
   "source": [
    "fig, ax = plt.subplots()\n",
    "ax.plot([model['n_clusters'] for model in models], [model['inertia'] for model in models])\n",
    "\n",
    "ax.set(xlabel='number of clusters', ylabel='inertia')\n",
    "ax.grid()\n",
    "\n",
    "plt.show()"
   ]
  },
  {
   "cell_type": "markdown",
   "metadata": {},
   "source": [
    "## Find most important words"
   ]
  },
  {
   "cell_type": "code",
   "execution_count": 8,
   "metadata": {},
   "outputs": [],
   "source": [
    "order_centroids = km.cluster_centers_.argsort()[:, ::-1]\n",
    "terms = tfidf_vectorizer.get_feature_names()"
   ]
  },
  {
   "cell_type": "code",
   "execution_count": 9,
   "metadata": {},
   "outputs": [
    {
     "name": "stdout",
     "output_type": "stream",
     "text": [
      "Cluster 0: los aufteilung bauauftrag beschaffungsobjekt vorsehen nein verschieden mehrere ausgeschrieben beschaffungen\n",
      "Cluster 1: baustelle unternehmer bauleitung einzurechnen strassen zufahrt einheitspreis müssen gelten entsorgung\n",
      "Cluster 2: vergabeverfahren angabe weit vertraulichkeit anbieter vertraulich bestimmung behandeln angebot verfahrenssprache\n",
      "Cluster 3: einleitung zweck ausschreibungsunterlage form rahmenbedingung vorliegend dokument ausschreibung zielsetzung grundlage\n",
      "Cluster 4: bauleitung unternehmer arbeit ag bauherrschaft dürfen architekt örtlich melden unternehmung\n",
      "Cluster 5: begriffsdefinition ausmassbestimmung betreffend vergütungsregelung pos 200 000 gelten bedingung transport\n",
      "Cluster 6: versicherung haftpflichtversicherung sachschaden pro administration versicherungsgesellschaft ereignis mio unternehmer chf\n",
      "Cluster 7: total fr mwst 00 200 chf et netto 000 100\n",
      "Cluster 8: leistungsfähigkeit wirtschaftlich finanziell technisch nachweis eignungskriterium anbieters ja jahr nein\n",
      "Cluster 9: sprache deutsch angebot ausschreibungsunterlage verfahren bedingung angebotsunterlage verfahrenssprache administratives vergabeverfahren\n",
      "Cluster 10: nr ausschreibung angebot st mm le projekt 100 typ ag\n",
      "Cluster 11: bkp 244 neubau arbeitsgattung 211 auftrag zusammenstellung holz npk mwst\n",
      "Cluster 12: bauherr allgemeine bedingung art abs unternehmer prüfung abnahme bauleitung gemeinsam\n",
      "Cluster 13: 100 120 200 300 102 00 221 500 400 bauherrschaft\n",
      "Cluster 14: subunternehmer lieferant angabe arbeitsgemeinschaft zulassen firma bedingung allgemeine anbieter vorgesehen\n",
      "Cluster 15: sia 118 norm art 2013 bedingung unternehmer abs abnahme allgemein\n",
      "Cluster 16: zuschlagskriterium gewichtung bewertung angebot preis kriterium referenzen qualität angabe punkt\n",
      "Cluster 17: projekt 2018 ag 10 inkl gemäss 00 sowie müssen table\n",
      "Cluster 18: verfahrensart verfahren offenes offen recht art auftraggeber ausschreibung öffentlich zürich\n",
      "Cluster 19: allgemeines angebot zwingend halten aufbau vorliegend evaluation anbieter einzeln sowie\n",
      "Cluster 20: zürich stadt vertragspartnerinnen verhaltenskodex postfach ag hochbau amt einhaltung stelle\n",
      "Cluster 21: unternehmer bauherr arbeit verpflichten stellen verfügung einzurechnen angabe dass einheitspreis\n",
      "Cluster 22: sicherheit werkvertrag ziffer vorgesehen gemäss sicherheitsleistung gesundheitsschutz baustelle arbeit bedingung\n",
      "Cluster 23: 343 04 dämmung bkp gruppe dn zusammenstellung st km neu\n",
      "Cluster 24: werkleitung leitung bauwerk anlage bauarbeit iwb vermessung bereich bestehend unternehmer\n",
      "Cluster 25: allgemeine angabe bestimmung verfahren ausschreibung iwb vertragsbedingung angebot öffentlich vertraulichkeit\n",
      "Cluster 26: werkvertrag vorgesehen ziffer gemäss geschäftsbedingung finanzielle vertragsurkunde aufgabenbeschrieb preisänderung infolge\n",
      "Cluster 27: 01 2017 bau 02 besonderer teil bestimmung 2018 2019 12\n",
      "Cluster 28: bzw anbieter monat gemäss entsprechend dass vorbehalt sowie unternehmer erfolgen\n",
      "Cluster 29: termin frist 2018 2019 bauprogramm baubeginn terminprogramm gemäss bauablauf prämie\n",
      "Cluster 30: schlüsselperson referenzobjekt referenzen referenz name funktion referenzperson projekt auftragssumme vorname\n",
      "Cluster 31: beschaffungsobjekt aufgabenbeschrieb ausschreibung ort beschaffung option art vertrag beginn ende\n",
      "Cluster 32: 236 81 232 allgemein 51 installation 237 nr 22 schutz\n",
      "Cluster 33: nachhaltiges bauen werkleistung bedingung hochbau vertragspartnerinnen stadt zürich unternehmung bauherrschaft\n",
      "Cluster 34: gegenstand umfang auftrag ausschreibung arbeit vertrag beschaffung lieferung leistung art\n",
      "Cluster 35: offertöffnung öffentlich öffnung datum angebot verlangen zuschlag protokoll statt finden\n",
      "Cluster 36: unterschrift datum ort stempel bestätigen dass anbieters bestätigung rechtsgültig anbieterin\n",
      "Cluster 37: montage transport inkl lieferung material fr total einzurechnen inbetriebsetzung sämtlich\n",
      "Cluster 38: leistungsverzeichnis stk npk kapitel mm haus total gemäss dienstleistung sehen\n",
      "Cluster 39: wto gatt abkommen verfahren resp information ja voraussetzung land gemäss\n"
     ]
    }
   ],
   "source": [
    "for i in range(40):\n",
    "        print(\"Cluster %d:\" % i, end='')\n",
    "        for ind in order_centroids[i, :10]:\n",
    "            print(' %s' % terms[ind], end='')\n",
    "        print()"
   ]
  }
 ],
 "metadata": {
  "kernelspec": {
   "display_name": "Python 3",
   "language": "python",
   "name": "python3"
  },
  "language_info": {
   "codemirror_mode": {
    "name": "ipython",
    "version": 3
   },
   "file_extension": ".py",
   "mimetype": "text/x-python",
   "name": "python",
   "nbconvert_exporter": "python",
   "pygments_lexer": "ipython3",
   "version": "3.7.1"
  },
  "toc": {
   "base_numbering": 1,
   "nav_menu": {},
   "number_sections": false,
   "sideBar": false,
   "skip_h1_title": false,
   "title_cell": "Table of Contents",
   "title_sidebar": "Contents",
   "toc_cell": false,
   "toc_position": {},
   "toc_section_display": false,
   "toc_window_display": false
  }
 },
 "nbformat": 4,
 "nbformat_minor": 1
}
