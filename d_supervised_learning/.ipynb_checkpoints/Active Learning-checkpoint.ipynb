{
 "cells": [
  {
   "cell_type": "code",
   "execution_count": 32,
   "metadata": {},
   "outputs": [],
   "source": [
    "import sys\n",
    "sys.path.append(\"..\")\n",
    "\n",
    "from services.segments_database import do_query, insert_trainingdata_from_chapter\n",
    "import pandas as pd\n",
    "from sklearn.model_selection import train_test_split\n",
    "from sklearn.ensemble import RandomForestClassifier\n",
    "from sklearn.feature_extraction.text import TfidfVectorizer\n",
    "from sklearn.pipeline import FeatureUnion\n",
    "from sklearn.metrics import f1_score, classification_report, confusion_matrix, accuracy_score, roc_auc_score, recall_score, roc_curve, precision_score\n",
    "import scipy\n",
    "import numpy as np\n",
    "import matplotlib.pyplot as plt\n",
    "from sklearn.multiclass import OneVsRestClassifier\n",
    "from sklearn.tree import export_graphviz\n",
    "from sklearn.model_selection import StratifiedKFold\n",
    "\n"
   ]
  },
  {
   "cell_type": "markdown",
   "metadata": {},
   "source": [
    "## Config"
   ]
  },
  {
   "cell_type": "code",
   "execution_count": 33,
   "metadata": {},
   "outputs": [],
   "source": [
    "number_of_categories = 40\n",
    "entries_per_category = 50\n",
    "entries_trainingdata = 50\n",
    "current_round = 10\n",
    "current_category = 'zk'\n",
    "zk_category_id = 4\n",
    "relevant_columns = ['header_preprocessed', 'parent_preprocessed', 'grandparent_preprocessed', 'words']\n",
    "random_state = 0"
   ]
  },
  {
   "cell_type": "markdown",
   "metadata": {},
   "source": [
    "# Functions"
   ]
  },
  {
   "cell_type": "code",
   "execution_count": 34,
   "metadata": {},
   "outputs": [],
   "source": [
    "def print_tree(model, feature_names, filename): \n",
    "    print(model)\n",
    "    export_graphviz(model, out_file='{}.dot'.format(filename), feature_names = feature_names, class_names = [\"0\",\"1\"],\n",
    "                rounded = True, proportion = False, \n",
    "                precision = 2, filled = True)"
   ]
  },
  {
   "cell_type": "markdown",
   "metadata": {},
   "source": [
    "## Get Trainingdata"
   ]
  },
  {
   "cell_type": "code",
   "execution_count": 35,
   "metadata": {},
   "outputs": [],
   "source": [
    "query = '''\n",
    "    SELECT *, \n",
    "    IF(length(GROUP_CONCAT(word.word SEPARATOR ' ')) > 0, GROUP_CONCAT(word.word SEPARATOR ' '), '')  as words \n",
    "    FROM trainingdata \n",
    "    LEFT JOIN word ON trainingdata.id = word.chapter_id\n",
    "    WHERE (label = 'yes' \n",
    "    OR label = 'no')\n",
    "    and round {0} {1}\n",
    "    GROUP BY trainingdata.id\n",
    "'''.format('<=', current_round)"
   ]
  },
  {
   "cell_type": "code",
   "execution_count": 36,
   "metadata": {},
   "outputs": [
    {
     "name": "stdout",
     "output_type": "stream",
     "text": [
      "(934, 33)\n"
     ]
    }
   ],
   "source": [
    "res = do_query(query)\n",
    "df = pd.DataFrame(res.fetchall())\n",
    "df.columns = res.keys()\n",
    "print(df.shape)"
   ]
  },
  {
   "cell_type": "code",
   "execution_count": 37,
   "metadata": {},
   "outputs": [
    {
     "data": {
      "text/html": [
       "<div>\n",
       "<style scoped>\n",
       "    .dataframe tbody tr th:only-of-type {\n",
       "        vertical-align: middle;\n",
       "    }\n",
       "\n",
       "    .dataframe tbody tr th {\n",
       "        vertical-align: top;\n",
       "    }\n",
       "\n",
       "    .dataframe thead th {\n",
       "        text-align: right;\n",
       "    }\n",
       "</style>\n",
       "<table border=\"1\" class=\"dataframe\">\n",
       "  <thead>\n",
       "    <tr style=\"text-align: right;\">\n",
       "      <th></th>\n",
       "      <th>id</th>\n",
       "      <th>text</th>\n",
       "      <th>chapter_idx</th>\n",
       "      <th>chapter_number</th>\n",
       "      <th>header</th>\n",
       "      <th>header_preprocessed</th>\n",
       "      <th>parent_header</th>\n",
       "      <th>parent_preprocessed</th>\n",
       "      <th>grandparent_header</th>\n",
       "      <th>grandparent_preprocessed</th>\n",
       "      <th>...</th>\n",
       "      <th>round</th>\n",
       "      <th>suggested_label</th>\n",
       "      <th>createdAt</th>\n",
       "      <th>updatedAt</th>\n",
       "      <th>id</th>\n",
       "      <th>word</th>\n",
       "      <th>tfidf</th>\n",
       "      <th>score</th>\n",
       "      <th>chapter_id</th>\n",
       "      <th>words</th>\n",
       "    </tr>\n",
       "  </thead>\n",
       "  <tbody>\n",
       "    <tr>\n",
       "      <th>0</th>\n",
       "      <td>1418</td>\n",
       "      <td>\\nDienstleistungsauftrag.\\n</td>\n",
       "      <td>21</td>\n",
       "      <td>21</td>\n",
       "      <td>Auftragsart\\n</td>\n",
       "      <td>auftragsart</td>\n",
       "      <td></td>\n",
       "      <td></td>\n",
       "      <td></td>\n",
       "      <td></td>\n",
       "      <td>...</td>\n",
       "      <td>1</td>\n",
       "      <td>0</td>\n",
       "      <td>2019-05-06 13:14:39</td>\n",
       "      <td>2019-05-10 11:58:56</td>\n",
       "      <td>23108</td>\n",
       "      <td>dienstleistungsauftrag</td>\n",
       "      <td>1.000000</td>\n",
       "      <td>296.0</td>\n",
       "      <td>1418</td>\n",
       "      <td>dienstleistungsauftrag</td>\n",
       "    </tr>\n",
       "    <tr>\n",
       "      <th>1</th>\n",
       "      <td>1702</td>\n",
       "      <td>\\nAngebote sind einfach und vollständig, recht...</td>\n",
       "      <td>36</td>\n",
       "      <td>None</td>\n",
       "      <td>Einreichung Angebot\\n</td>\n",
       "      <td>einreichung angebot</td>\n",
       "      <td></td>\n",
       "      <td></td>\n",
       "      <td></td>\n",
       "      <td></td>\n",
       "      <td>...</td>\n",
       "      <td>2</td>\n",
       "      <td>0</td>\n",
       "      <td>2019-06-02 10:49:09</td>\n",
       "      <td>2019-06-02 12:50:03</td>\n",
       "      <td>27722</td>\n",
       "      <td>anbietende</td>\n",
       "      <td>0.101942</td>\n",
       "      <td>316.0</td>\n",
       "      <td>1702</td>\n",
       "      <td>anbietende anbieterin angabe angebot ausgefüll...</td>\n",
       "    </tr>\n",
       "    <tr>\n",
       "      <th>2</th>\n",
       "      <td>2267</td>\n",
       "      <td>\\nFreitag, 19. Januar 2018\\n</td>\n",
       "      <td>0</td>\n",
       "      <td>None</td>\n",
       "      <td>\\n</td>\n",
       "      <td></td>\n",
       "      <td></td>\n",
       "      <td></td>\n",
       "      <td></td>\n",
       "      <td></td>\n",
       "      <td>...</td>\n",
       "      <td>1</td>\n",
       "      <td>0</td>\n",
       "      <td>2019-05-06 13:14:38</td>\n",
       "      <td>2019-05-06 15:33:20</td>\n",
       "      <td>37781</td>\n",
       "      <td>19</td>\n",
       "      <td>0.463409</td>\n",
       "      <td>1020.0</td>\n",
       "      <td>2267</td>\n",
       "      <td>19 2018 freitag januar</td>\n",
       "    </tr>\n",
       "    <tr>\n",
       "      <th>3</th>\n",
       "      <td>2369</td>\n",
       "      <td>\\n1 Referenz des Anbieters in den letzten 5 Ja...</td>\n",
       "      <td>41</td>\n",
       "      <td>None</td>\n",
       "      <td>TECHNISCHE LEISTUNGSFÄHIGKEIT (Firmenreferenze...</td>\n",
       "      <td>technische leistungsfähigkeit firmenreferenzen</td>\n",
       "      <td></td>\n",
       "      <td></td>\n",
       "      <td></td>\n",
       "      <td></td>\n",
       "      <td>...</td>\n",
       "      <td>6</td>\n",
       "      <td>0</td>\n",
       "      <td>2019-06-02 12:13:33</td>\n",
       "      <td>2019-06-02 14:14:02</td>\n",
       "      <td>39346</td>\n",
       "      <td>1</td>\n",
       "      <td>0.211744</td>\n",
       "      <td>11969.0</td>\n",
       "      <td>2369</td>\n",
       "      <td>1 5 anbieters art aufgabe drei erfüllt jahr ko...</td>\n",
       "    </tr>\n",
       "    <tr>\n",
       "      <th>4</th>\n",
       "      <td>2388</td>\n",
       "      <td>\\nDie Zuschlagskriterien werden mit Noten zwis...</td>\n",
       "      <td>49</td>\n",
       "      <td>9.3.5</td>\n",
       "      <td>Bewertung der Zuschlagskriterien\\n</td>\n",
       "      <td>bewertung zuschlagskriterium</td>\n",
       "      <td></td>\n",
       "      <td></td>\n",
       "      <td></td>\n",
       "      <td></td>\n",
       "      <td>...</td>\n",
       "      <td>7</td>\n",
       "      <td>1</td>\n",
       "      <td>2019-06-02 12:27:51</td>\n",
       "      <td>2019-06-02 14:31:01</td>\n",
       "      <td>39740</td>\n",
       "      <td>0</td>\n",
       "      <td>0.248047</td>\n",
       "      <td>4432.0</td>\n",
       "      <td>2388</td>\n",
       "      <td>0 1 3 angabe ausreichenden beitrag bewerten be...</td>\n",
       "    </tr>\n",
       "  </tbody>\n",
       "</table>\n",
       "<p>5 rows × 33 columns</p>\n",
       "</div>"
      ],
      "text/plain": [
       "     id                                               text  chapter_idx  \\\n",
       "0  1418                        \\nDienstleistungsauftrag.\\n           21   \n",
       "1  1702  \\nAngebote sind einfach und vollständig, recht...           36   \n",
       "2  2267                       \\nFreitag, 19. Januar 2018\\n            0   \n",
       "3  2369  \\n1 Referenz des Anbieters in den letzten 5 Ja...           41   \n",
       "4  2388  \\nDie Zuschlagskriterien werden mit Noten zwis...           49   \n",
       "\n",
       "  chapter_number                                             header  \\\n",
       "0             21                                      Auftragsart\\n   \n",
       "1           None                              Einreichung Angebot\\n   \n",
       "2           None                                                 \\n   \n",
       "3           None  TECHNISCHE LEISTUNGSFÄHIGKEIT (Firmenreferenze...   \n",
       "4          9.3.5                 Bewertung der Zuschlagskriterien\\n   \n",
       "\n",
       "                              header_preprocessed parent_header  \\\n",
       "0                                     auftragsart                 \n",
       "1                             einreichung angebot                 \n",
       "2                                                                 \n",
       "3  technische leistungsfähigkeit firmenreferenzen                 \n",
       "4                    bewertung zuschlagskriterium                 \n",
       "\n",
       "  parent_preprocessed grandparent_header grandparent_preprocessed  ...  round  \\\n",
       "0                                                                  ...      1   \n",
       "1                                                                  ...      2   \n",
       "2                                                                  ...      1   \n",
       "3                                                                  ...      6   \n",
       "4                                                                  ...      7   \n",
       "\n",
       "   suggested_label           createdAt           updatedAt     id  \\\n",
       "0                0 2019-05-06 13:14:39 2019-05-10 11:58:56  23108   \n",
       "1                0 2019-06-02 10:49:09 2019-06-02 12:50:03  27722   \n",
       "2                0 2019-05-06 13:14:38 2019-05-06 15:33:20  37781   \n",
       "3                0 2019-06-02 12:13:33 2019-06-02 14:14:02  39346   \n",
       "4                1 2019-06-02 12:27:51 2019-06-02 14:31:01  39740   \n",
       "\n",
       "                     word     tfidf    score  chapter_id  \\\n",
       "0  dienstleistungsauftrag  1.000000    296.0        1418   \n",
       "1              anbietende  0.101942    316.0        1702   \n",
       "2                      19  0.463409   1020.0        2267   \n",
       "3                       1  0.211744  11969.0        2369   \n",
       "4                       0  0.248047   4432.0        2388   \n",
       "\n",
       "                                               words  \n",
       "0                             dienstleistungsauftrag  \n",
       "1  anbietende anbieterin angabe angebot ausgefüll...  \n",
       "2                             19 2018 freitag januar  \n",
       "3  1 5 anbieters art aufgabe drei erfüllt jahr ko...  \n",
       "4  0 1 3 angabe ausreichenden beitrag bewerten be...  \n",
       "\n",
       "[5 rows x 33 columns]"
      ]
     },
     "execution_count": 37,
     "metadata": {},
     "output_type": "execute_result"
    }
   ],
   "source": [
    "df.head()"
   ]
  },
  {
   "cell_type": "markdown",
   "metadata": {},
   "source": [
    "## Ensemble Class\n",
    "source: https://github.com/msahamed/handle_imabalnce_class/blob/master/imbalance_datasets_machine_learning.ipynb"
   ]
  },
  {
   "cell_type": "code",
   "execution_count": 38,
   "metadata": {},
   "outputs": [],
   "source": [
    "class Create_ensemble(object):\n",
    "    def __init__(self, n_splits, base_models):\n",
    "        self.n_splits = n_splits\n",
    "        self.base_models = base_models\n",
    "\n",
    "    def predict(self, X, y):\n",
    "        X = np.array(X.toarray())\n",
    "        y = np.array(y)\n",
    "                \n",
    "        train_pred = np.zeros((X.shape[0], len(self.base_models)))\n",
    "        f1_scores = np.zeros((len(self.base_models), self.n_splits))\n",
    "        recall_scores = np.zeros((len(self.base_models), self.n_splits))\n",
    "        \n",
    "        for i, clf in enumerate(self.base_models):\n",
    "            \n",
    "            folds = StratifiedKFold(n_splits=5, shuffle=True, random_state = random_state).split(X, y)\n",
    "            \n",
    "            for j, (train_idx, valid_idx) in enumerate(folds):\n",
    "                \n",
    "                X_train = X[train_idx]\n",
    "                Y_train = y[train_idx]\n",
    "                X_valid = X[valid_idx]\n",
    "                Y_valid = y[valid_idx]\n",
    "                \n",
    "                clf.fit(X_train, Y_train)\n",
    "                \n",
    "                valid_pred = clf.predict(X_valid)\n",
    "                recall  = recall_score(Y_valid, valid_pred, average='macro')\n",
    "                f1 = f1_score(Y_valid, valid_pred, average='macro')\n",
    "                \n",
    "                recall_scores[i][j] = recall\n",
    "                f1_scores[i][j] = f1\n",
    "                \n",
    "                train_pred[valid_idx, i] = valid_pred\n",
    "                \n",
    "                print( \"Model- {} and CV- {} recall: {}, f1_score: {}\".format(i, j, recall, f1))\n",
    "            \n",
    "        return train_pred, recall_scores, f1_scores"
   ]
  },
  {
   "cell_type": "markdown",
   "metadata": {},
   "source": [
    "## Create Train Data and make TF-IDF"
   ]
  },
  {
   "cell_type": "markdown",
   "metadata": {},
   "source": [
    "### create X"
   ]
  },
  {
   "cell_type": "code",
   "execution_count": 39,
   "metadata": {},
   "outputs": [
    {
     "data": {
      "text/html": [
       "<div>\n",
       "<style scoped>\n",
       "    .dataframe tbody tr th:only-of-type {\n",
       "        vertical-align: middle;\n",
       "    }\n",
       "\n",
       "    .dataframe tbody tr th {\n",
       "        vertical-align: top;\n",
       "    }\n",
       "\n",
       "    .dataframe thead th {\n",
       "        text-align: right;\n",
       "    }\n",
       "</style>\n",
       "<table border=\"1\" class=\"dataframe\">\n",
       "  <thead>\n",
       "    <tr style=\"text-align: right;\">\n",
       "      <th></th>\n",
       "      <th>header_preprocessed</th>\n",
       "      <th>parent_preprocessed</th>\n",
       "      <th>grandparent_preprocessed</th>\n",
       "      <th>words</th>\n",
       "    </tr>\n",
       "  </thead>\n",
       "  <tbody>\n",
       "    <tr>\n",
       "      <th>929</th>\n",
       "      <td>111</td>\n",
       "      <td></td>\n",
       "      <td></td>\n",
       "      <td>1 2 a baustelleneinrichtung cd ef haus nr plan</td>\n",
       "    </tr>\n",
       "    <tr>\n",
       "      <th>930</th>\n",
       "      <td>prozessanforderung</td>\n",
       "      <td></td>\n",
       "      <td></td>\n",
       "      <td>0 0074 0158 abbildung ausgewählt beschreibung ...</td>\n",
       "    </tr>\n",
       "    <tr>\n",
       "      <th>931</th>\n",
       "      <td>angebotssprache</td>\n",
       "      <td>angebotsabgabe</td>\n",
       "      <td>administrative vorgabe</td>\n",
       "      <td>angebot beilage deutsch einreichen englisch fr...</td>\n",
       "    </tr>\n",
       "    <tr>\n",
       "      <th>932</th>\n",
       "      <td>objekt sporzentrum kerenzerberg</td>\n",
       "      <td></td>\n",
       "      <td></td>\n",
       "      <td>09 243 3 armaturen einbauten galerie heizgrupp...</td>\n",
       "    </tr>\n",
       "    <tr>\n",
       "      <th>933</th>\n",
       "      <td>montage befestigung heizungsdämmung</td>\n",
       "      <td></td>\n",
       "      <td></td>\n",
       "      <td>abzukleben aluminium befestigen d dichtigkeits...</td>\n",
       "    </tr>\n",
       "  </tbody>\n",
       "</table>\n",
       "</div>"
      ],
      "text/plain": [
       "                     header_preprocessed parent_preprocessed  \\\n",
       "929                                  111                       \n",
       "930                   prozessanforderung                       \n",
       "931                      angebotssprache      angebotsabgabe   \n",
       "932      objekt sporzentrum kerenzerberg                       \n",
       "933  montage befestigung heizungsdämmung                       \n",
       "\n",
       "    grandparent_preprocessed  \\\n",
       "929                            \n",
       "930                            \n",
       "931   administrative vorgabe   \n",
       "932                            \n",
       "933                            \n",
       "\n",
       "                                                 words  \n",
       "929     1 2 a baustelleneinrichtung cd ef haus nr plan  \n",
       "930  0 0074 0158 abbildung ausgewählt beschreibung ...  \n",
       "931  angebot beilage deutsch einreichen englisch fr...  \n",
       "932  09 243 3 armaturen einbauten galerie heizgrupp...  \n",
       "933  abzukleben aluminium befestigen d dichtigkeits...  "
      ]
     },
     "execution_count": 39,
     "metadata": {},
     "output_type": "execute_result"
    }
   ],
   "source": [
    "X_train = df[relevant_columns]\n",
    "X_train.tail()"
   ]
  },
  {
   "cell_type": "markdown",
   "metadata": {},
   "source": [
    "### create y"
   ]
  },
  {
   "cell_type": "code",
   "execution_count": 40,
   "metadata": {},
   "outputs": [
    {
     "data": {
      "text/plain": [
       "0    0\n",
       "1    0\n",
       "2    0\n",
       "3    0\n",
       "4    0\n",
       "Name: label, dtype: int64"
      ]
     },
     "execution_count": 40,
     "metadata": {},
     "output_type": "execute_result"
    }
   ],
   "source": [
    "# get df, not series\n",
    "y_train = df.loc[:,['label']]\n",
    "y_train.loc[y_train['label'] == 'yes'] = 1\n",
    "y_train.loc[y_train['label'] == 'no'] = 0\n",
    "# convert to series\n",
    "y_train = y_train['label']\n",
    "y_train[0:5]"
   ]
  },
  {
   "cell_type": "markdown",
   "metadata": {},
   "source": [
    "### tf-idf"
   ]
  },
  {
   "cell_type": "markdown",
   "metadata": {},
   "source": [
    "train data"
   ]
  },
  {
   "cell_type": "code",
   "execution_count": 41,
   "metadata": {},
   "outputs": [
    {
     "name": "stdout",
     "output_type": "stream",
     "text": [
      "7656\n",
      "(934, 7656)\n"
     ]
    }
   ],
   "source": [
    "words_vec = TfidfVectorizer()\n",
    "words_tfidf = words_vec.fit_transform(X_train['words'])\n",
    "\n",
    "header_vec = TfidfVectorizer()\n",
    "header_tfidf = header_vec.fit_transform(X_train['header_preprocessed'])\n",
    "\n",
    "parent_vec = TfidfVectorizer()\n",
    "parent_tfidf = parent_vec.fit_transform(X_train['parent_preprocessed'])\n",
    "\n",
    "grandparent_vec = TfidfVectorizer()\n",
    "grandparent_tfidf = grandparent_vec.fit_transform(X_train['grandparent_preprocessed'])\n",
    "\n",
    "X_train_union = scipy.sparse.hstack([\n",
    "    words_tfidf,\n",
    "    header_tfidf,\n",
    "    parent_tfidf,\n",
    "    grandparent_tfidf\n",
    "])\n",
    "\n",
    "X_train_features = words_vec.get_feature_names()\\\n",
    "               + header_vec.get_feature_names()\\\n",
    "               + parent_vec.get_feature_names()\\\n",
    "               + grandparent_vec.get_feature_names()\n",
    "\n",
    "\n",
    "print(len(X_train_features))\n",
    "print(X_train_union.shape) "
   ]
  },
  {
   "cell_type": "markdown",
   "metadata": {},
   "source": [
    "## RandomForest Classifier"
   ]
  },
  {
   "cell_type": "code",
   "execution_count": 42,
   "metadata": {},
   "outputs": [],
   "source": [
    "classifier0 = RandomForestClassifier(n_estimators=1000, random_state=random_state, class_weight=\"balanced\", max_depth=None)\n",
    "classifier1 = RandomForestClassifier(n_estimators=1000, random_state=random_state, class_weight=\"balanced\", max_depth=15)\n",
    "classifier2 = RandomForestClassifier(n_estimators=1000, random_state=random_state, class_weight=\"balanced\", max_depth=10)\n",
    "classifier3 = RandomForestClassifier(n_estimators=1000, random_state=random_state, class_weight=\"balanced\", max_depth=5)\n",
    "classifier4 = RandomForestClassifier(n_estimators=1000, random_state=random_state, class_weight=\"balanced\", max_depth=2)\n",
    "classifier5 = RandomForestClassifier(n_estimators=1000, random_state=random_state, class_weight=\"balanced\", max_depth=1)"
   ]
  },
  {
   "cell_type": "markdown",
   "metadata": {},
   "source": [
    "## Cross Validation"
   ]
  },
  {
   "cell_type": "code",
   "execution_count": 43,
   "metadata": {},
   "outputs": [],
   "source": [
    "# base_models = [classifier0, classifier1, classifier2, classifier3, classifier4, classifier5]\n",
    "base_models = [classifier2]\n",
    "n_splits = 5\n",
    "lgb_stack = Create_ensemble(n_splits = n_splits, base_models = base_models)        "
   ]
  },
  {
   "cell_type": "code",
   "execution_count": 44,
   "metadata": {},
   "outputs": [
    {
     "name": "stdout",
     "output_type": "stream",
     "text": [
      "Model- 0 and CV- 0 recall: 0.7143256464011181, f1_score: 0.7239759213037733\n",
      "Model- 0 and CV- 1 recall: 0.7683047029005914, f1_score: 0.7868541033434651\n",
      "Model- 0 and CV- 2 recall: 0.7551393973528584, f1_score: 0.772644376899696\n",
      "Model- 0 and CV- 3 recall: 0.769804822043628, f1_score: 0.797459165154265\n",
      "Model- 0 and CV- 4 recall: 0.6940298507462687, f1_score: 0.7060931899641576\n"
     ]
    }
   ],
   "source": [
    "y_train_pred, recall_scores, f1_scores = lgb_stack.predict(X_train_union, y_train)"
   ]
  },
  {
   "cell_type": "markdown",
   "metadata": {},
   "source": [
    "## Cross Validation Report"
   ]
  },
  {
   "cell_type": "code",
   "execution_count": 45,
   "metadata": {
    "scrolled": true
   },
   "outputs": [
    {
     "name": "stdout",
     "output_type": "stream",
     "text": [
      "1. The F-1 score of the model 0.7569688917732486\n",
      "\n",
      "2. The recall score of the model 0.7403852147353986\n",
      "\n",
      "3. Classification report \n",
      "               precision    recall  f1-score   support\n",
      "\n",
      "           0       0.84      0.92      0.88       671\n",
      "           1       0.73      0.56      0.64       263\n",
      "\n",
      "   micro avg       0.82      0.82      0.82       934\n",
      "   macro avg       0.79      0.74      0.76       934\n",
      "weighted avg       0.81      0.82      0.81       934\n",
      " \n",
      "\n",
      "4. Confusion matrix \n",
      " [[616  55]\n",
      " [115 148]] \n",
      "\n",
      "===============\n"
     ]
    }
   ],
   "source": [
    "df_cv = pd.DataFrame(y_train_pred)\n",
    "for column in df_cv:\n",
    "    print('1. The F-1 score of the model {}\\n'.format(f1_score(y_train, df_cv[column], average='macro')))\n",
    "    print('2. The recall score of the model {}\\n'.format(recall_score(y_train, df_cv[column], average='macro')))\n",
    "    print('3. Classification report \\n {} \\n'.format(classification_report(y_train, df_cv[column])))\n",
    "    print('4. Confusion matrix \\n {} \\n'.format(confusion_matrix(y_train, df_cv[column]))) \n",
    "    print('===============')"
   ]
  },
  {
   "cell_type": "code",
   "execution_count": 46,
   "metadata": {},
   "outputs": [
    {
     "data": {
      "text/plain": [
       "array([[0.71432565, 0.7683047 , 0.7551394 , 0.76980482, 0.69402985]])"
      ]
     },
     "execution_count": 46,
     "metadata": {},
     "output_type": "execute_result"
    }
   ],
   "source": [
    "recall_scores"
   ]
  },
  {
   "cell_type": "code",
   "execution_count": 47,
   "metadata": {},
   "outputs": [],
   "source": [
    "#print_tree(lgb_stack.base_models[0].estimators_[50], X_test_features, 'tree_0')\n",
    "#print_tree(lgb_stack.base_models[1].estimators_[50], X_test_features, 'tree_1')"
   ]
  },
  {
   "cell_type": "markdown",
   "metadata": {},
   "source": [
    "### print feature importances"
   ]
  },
  {
   "cell_type": "code",
   "execution_count": 48,
   "metadata": {},
   "outputs": [
    {
     "name": "stdout",
     "output_type": "stream",
     "text": [
      "model 0\n",
      "1. feature: zuschlagskriterium 7027 (0.048777)\n",
      "2. feature: zk 7003 (0.020426)\n",
      "3. feature: gewichtung 2607 (0.018157)\n",
      "4. feature: zuschlagskriterium 5805 (0.015792)\n",
      "5. feature: angebot 550 (0.015432)\n",
      "6. feature: punkt 4147 (0.015337)\n",
      "7. feature: zuschlagskriterium 7456 (0.014869)\n",
      "8. feature: schlüsselperson 4504 (0.013951)\n",
      "9. feature: qualität 4178 (0.012623)\n",
      "10. feature: preis 3983 (0.012380)\n",
      "===\n"
     ]
    }
   ],
   "source": [
    "for i, model in enumerate(lgb_stack.base_models): \n",
    "    print('model {}'.format(i))\n",
    "    importances = model.feature_importances_\n",
    "    std = np.std([tree.feature_importances_ for tree in model.estimators_],\n",
    "             axis=0)\n",
    "    indices = np.argsort(importances)[::-1]    \n",
    "    \n",
    "    for f in range(10):\n",
    "        print(\"%d. feature: %s %d (%f)\" % (f + 1, X_train_features[indices[f]], indices[f], importances[indices[f]]))\n",
    "        \n",
    "    print('===')"
   ]
  },
  {
   "cell_type": "markdown",
   "metadata": {},
   "source": [
    "## Select Model"
   ]
  },
  {
   "cell_type": "code",
   "execution_count": 49,
   "metadata": {},
   "outputs": [],
   "source": [
    "final_model = lgb_stack.base_models[0]"
   ]
  },
  {
   "cell_type": "markdown",
   "metadata": {},
   "source": [
    "# Evaluate model against 1000-Trainingdata"
   ]
  },
  {
   "cell_type": "code",
   "execution_count": 50,
   "metadata": {},
   "outputs": [],
   "source": [
    "query = '''\n",
    "    SELECT *, \n",
    "    IF(length(GROUP_CONCAT(word.word SEPARATOR ' ')) > 0, GROUP_CONCAT(word.word SEPARATOR ' '), '')  as words\n",
    "    FROM trainingdata \n",
    "    LEFT JOIN word ON trainingdata.id = word.chapter_id\n",
    "    WHERE (label = 'yes' \n",
    "    OR label = 'no') and round = 1000\n",
    "    GROUP BY trainingdata.id\n",
    "'''"
   ]
  },
  {
   "cell_type": "code",
   "execution_count": 51,
   "metadata": {},
   "outputs": [
    {
     "data": {
      "text/plain": [
       "(1000, 33)"
      ]
     },
     "execution_count": 51,
     "metadata": {},
     "output_type": "execute_result"
    }
   ],
   "source": [
    "res = do_query(query)\n",
    "df = pd.DataFrame(res.fetchall())\n",
    "df.columns = res.keys()\n",
    "df.shape"
   ]
  },
  {
   "cell_type": "code",
   "execution_count": 52,
   "metadata": {},
   "outputs": [
    {
     "data": {
      "text/html": [
       "<div>\n",
       "<style scoped>\n",
       "    .dataframe tbody tr th:only-of-type {\n",
       "        vertical-align: middle;\n",
       "    }\n",
       "\n",
       "    .dataframe tbody tr th {\n",
       "        vertical-align: top;\n",
       "    }\n",
       "\n",
       "    .dataframe thead th {\n",
       "        text-align: right;\n",
       "    }\n",
       "</style>\n",
       "<table border=\"1\" class=\"dataframe\">\n",
       "  <thead>\n",
       "    <tr style=\"text-align: right;\">\n",
       "      <th></th>\n",
       "      <th>id</th>\n",
       "      <th>text</th>\n",
       "      <th>chapter_idx</th>\n",
       "      <th>chapter_number</th>\n",
       "      <th>header</th>\n",
       "      <th>header_preprocessed</th>\n",
       "      <th>parent_header</th>\n",
       "      <th>parent_preprocessed</th>\n",
       "      <th>grandparent_header</th>\n",
       "      <th>grandparent_preprocessed</th>\n",
       "      <th>...</th>\n",
       "      <th>round</th>\n",
       "      <th>suggested_label</th>\n",
       "      <th>createdAt</th>\n",
       "      <th>updatedAt</th>\n",
       "      <th>id</th>\n",
       "      <th>word</th>\n",
       "      <th>tfidf</th>\n",
       "      <th>score</th>\n",
       "      <th>chapter_id</th>\n",
       "      <th>words</th>\n",
       "    </tr>\n",
       "  </thead>\n",
       "  <tbody>\n",
       "    <tr>\n",
       "      <th>0</th>\n",
       "      <td>101</td>\n",
       "      <td>\\nWeitere spezifische Grundlagen sind vorhande...</td>\n",
       "      <td>26</td>\n",
       "      <td>5.2</td>\n",
       "      <td>Spezifische Grundlagen\\n</td>\n",
       "      <td>spezifisch grundlage</td>\n",
       "      <td>Grundlagen\\n</td>\n",
       "      <td>grundlage</td>\n",
       "      <td></td>\n",
       "      <td></td>\n",
       "      <td>...</td>\n",
       "      <td>1000</td>\n",
       "      <td>0</td>\n",
       "      <td>2019-05-13 10:22:07</td>\n",
       "      <td>2019-05-13 12:28:07</td>\n",
       "      <td>2074.0</td>\n",
       "      <td>ausarbeitung</td>\n",
       "      <td>0.385710</td>\n",
       "      <td>471.0</td>\n",
       "      <td>101.0</td>\n",
       "      <td>ausarbeitung generalplanerangebotes grundlage ...</td>\n",
       "    </tr>\n",
       "    <tr>\n",
       "      <th>1</th>\n",
       "      <td>251</td>\n",
       "      <td>\\nFolgende Schritte erfolgen bis zum Zuschlags...</td>\n",
       "      <td>26</td>\n",
       "      <td>7.1</td>\n",
       "      <td>Evaluationsphasen\\n</td>\n",
       "      <td>evaluationsphase</td>\n",
       "      <td>Evaluation\\n</td>\n",
       "      <td>evaluation</td>\n",
       "      <td></td>\n",
       "      <td></td>\n",
       "      <td>...</td>\n",
       "      <td>1000</td>\n",
       "      <td>0</td>\n",
       "      <td>2019-05-13 10:22:08</td>\n",
       "      <td>2019-05-13 12:28:10</td>\n",
       "      <td>4544.0</td>\n",
       "      <td>10</td>\n",
       "      <td>0.136392</td>\n",
       "      <td>2510.0</td>\n",
       "      <td>251.0</td>\n",
       "      <td>10 2 3 4 5 6 7 aktivität angebot ausschreibung...</td>\n",
       "    </tr>\n",
       "    <tr>\n",
       "      <th>2</th>\n",
       "      <td>509</td>\n",
       "      <td>\\n2.6.1 \\nAuf das vorliegende Vergabeverfahren...</td>\n",
       "      <td>36</td>\n",
       "      <td>2.6</td>\n",
       "      <td>Ausschreibungsbedingungen\\n</td>\n",
       "      <td>ausschreibungsbedingung</td>\n",
       "      <td></td>\n",
       "      <td></td>\n",
       "      <td></td>\n",
       "      <td></td>\n",
       "      <td>...</td>\n",
       "      <td>1000</td>\n",
       "      <td>0</td>\n",
       "      <td>2019-05-13 10:22:04</td>\n",
       "      <td>2019-05-13 12:28:17</td>\n",
       "      <td>NaN</td>\n",
       "      <td>None</td>\n",
       "      <td>NaN</td>\n",
       "      <td>NaN</td>\n",
       "      <td>NaN</td>\n",
       "      <td></td>\n",
       "    </tr>\n",
       "    <tr>\n",
       "      <th>3</th>\n",
       "      <td>779</td>\n",
       "      <td>\\n3.1.1 \\n.110 02 Schweizerische Südostbahn AG...</td>\n",
       "      <td>7</td>\n",
       "      <td>3.1</td>\n",
       "      <td>Bauherr, Besteller, Eigentümer.\\n</td>\n",
       "      <td>bauherr besteller eigentümer</td>\n",
       "      <td>100\\tORGANISATION BAUHERR, LAGE, ZWECKBESTIMMU...</td>\n",
       "      <td>100 organisation bauherr lage zweckbestimmung</td>\n",
       "      <td></td>\n",
       "      <td></td>\n",
       "      <td>...</td>\n",
       "      <td>1000</td>\n",
       "      <td>0</td>\n",
       "      <td>2019-05-13 10:22:05</td>\n",
       "      <td>2019-05-13 12:28:19</td>\n",
       "      <td>NaN</td>\n",
       "      <td>None</td>\n",
       "      <td>NaN</td>\n",
       "      <td>NaN</td>\n",
       "      <td>NaN</td>\n",
       "      <td></td>\n",
       "    </tr>\n",
       "    <tr>\n",
       "      <th>4</th>\n",
       "      <td>800</td>\n",
       "      <td>\\nDie Gasleitung wird im Bereich der Zentralst...</td>\n",
       "      <td>55</td>\n",
       "      <td>55</td>\n",
       "      <td>Gas\\n</td>\n",
       "      <td>gas</td>\n",
       "      <td></td>\n",
       "      <td></td>\n",
       "      <td></td>\n",
       "      <td></td>\n",
       "      <td>...</td>\n",
       "      <td>1000</td>\n",
       "      <td>0</td>\n",
       "      <td>2019-05-13 10:22:03</td>\n",
       "      <td>2019-05-13 12:28:21</td>\n",
       "      <td>13165.0</td>\n",
       "      <td>110</td>\n",
       "      <td>0.253070</td>\n",
       "      <td>790.0</td>\n",
       "      <td>800.0</td>\n",
       "      <td>110 380 bereich erstellen gasleitung grabenlän...</td>\n",
       "    </tr>\n",
       "  </tbody>\n",
       "</table>\n",
       "<p>5 rows × 33 columns</p>\n",
       "</div>"
      ],
      "text/plain": [
       "    id                                               text  chapter_idx  \\\n",
       "0  101  \\nWeitere spezifische Grundlagen sind vorhande...           26   \n",
       "1  251  \\nFolgende Schritte erfolgen bis zum Zuschlags...           26   \n",
       "2  509  \\n2.6.1 \\nAuf das vorliegende Vergabeverfahren...           36   \n",
       "3  779  \\n3.1.1 \\n.110 02 Schweizerische Südostbahn AG...            7   \n",
       "4  800  \\nDie Gasleitung wird im Bereich der Zentralst...           55   \n",
       "\n",
       "  chapter_number                             header  \\\n",
       "0            5.2           Spezifische Grundlagen\\n   \n",
       "1            7.1                Evaluationsphasen\\n   \n",
       "2            2.6        Ausschreibungsbedingungen\\n   \n",
       "3            3.1  Bauherr, Besteller, Eigentümer.\\n   \n",
       "4             55                              Gas\\n   \n",
       "\n",
       "            header_preprocessed  \\\n",
       "0          spezifisch grundlage   \n",
       "1              evaluationsphase   \n",
       "2       ausschreibungsbedingung   \n",
       "3  bauherr besteller eigentümer   \n",
       "4                           gas   \n",
       "\n",
       "                                       parent_header  \\\n",
       "0                                       Grundlagen\\n   \n",
       "1                                       Evaluation\\n   \n",
       "2                                                      \n",
       "3  100\\tORGANISATION BAUHERR, LAGE, ZWECKBESTIMMU...   \n",
       "4                                                      \n",
       "\n",
       "                             parent_preprocessed grandparent_header  \\\n",
       "0                                      grundlage                      \n",
       "1                                     evaluation                      \n",
       "2                                                                     \n",
       "3  100 organisation bauherr lage zweckbestimmung                      \n",
       "4                                                                     \n",
       "\n",
       "  grandparent_preprocessed  ...  round  suggested_label           createdAt  \\\n",
       "0                           ...   1000                0 2019-05-13 10:22:07   \n",
       "1                           ...   1000                0 2019-05-13 10:22:08   \n",
       "2                           ...   1000                0 2019-05-13 10:22:04   \n",
       "3                           ...   1000                0 2019-05-13 10:22:05   \n",
       "4                           ...   1000                0 2019-05-13 10:22:03   \n",
       "\n",
       "            updatedAt       id          word     tfidf   score  chapter_id  \\\n",
       "0 2019-05-13 12:28:07   2074.0  ausarbeitung  0.385710   471.0       101.0   \n",
       "1 2019-05-13 12:28:10   4544.0            10  0.136392  2510.0       251.0   \n",
       "2 2019-05-13 12:28:17      NaN          None       NaN     NaN         NaN   \n",
       "3 2019-05-13 12:28:19      NaN          None       NaN     NaN         NaN   \n",
       "4 2019-05-13 12:28:21  13165.0           110  0.253070   790.0       800.0   \n",
       "\n",
       "                                               words  \n",
       "0  ausarbeitung generalplanerangebotes grundlage ...  \n",
       "1  10 2 3 4 5 6 7 aktivität angebot ausschreibung...  \n",
       "2                                                     \n",
       "3                                                     \n",
       "4  110 380 bereich erstellen gasleitung grabenlän...  \n",
       "\n",
       "[5 rows x 33 columns]"
      ]
     },
     "execution_count": 52,
     "metadata": {},
     "output_type": "execute_result"
    }
   ],
   "source": [
    "df.head()"
   ]
  },
  {
   "cell_type": "code",
   "execution_count": 53,
   "metadata": {},
   "outputs": [
    {
     "data": {
      "text/html": [
       "<div>\n",
       "<style scoped>\n",
       "    .dataframe tbody tr th:only-of-type {\n",
       "        vertical-align: middle;\n",
       "    }\n",
       "\n",
       "    .dataframe tbody tr th {\n",
       "        vertical-align: top;\n",
       "    }\n",
       "\n",
       "    .dataframe thead th {\n",
       "        text-align: right;\n",
       "    }\n",
       "</style>\n",
       "<table border=\"1\" class=\"dataframe\">\n",
       "  <thead>\n",
       "    <tr style=\"text-align: right;\">\n",
       "      <th></th>\n",
       "      <th>header_preprocessed</th>\n",
       "      <th>parent_preprocessed</th>\n",
       "      <th>grandparent_preprocessed</th>\n",
       "      <th>words</th>\n",
       "    </tr>\n",
       "  </thead>\n",
       "  <tbody>\n",
       "    <tr>\n",
       "      <th>995</th>\n",
       "      <td>ts mitte steuerung treppenabgang</td>\n",
       "      <td></td>\n",
       "      <td></td>\n",
       "      <td>abdeckung ausführung ausgehen aussen bedienste...</td>\n",
       "    </tr>\n",
       "    <tr>\n",
       "      <th>996</th>\n",
       "      <td>angebotsblatt</td>\n",
       "      <td></td>\n",
       "      <td></td>\n",
       "      <td>abfallsammelfahrzeug anbieter anbieters aufbau...</td>\n",
       "    </tr>\n",
       "    <tr>\n",
       "      <th>997</th>\n",
       "      <td>montage befestigung heizungsdämmung</td>\n",
       "      <td></td>\n",
       "      <td></td>\n",
       "      <td>abzukleben aluminium befestigen d dichtigkeits...</td>\n",
       "    </tr>\n",
       "    <tr>\n",
       "      <th>998</th>\n",
       "      <td>total heizgruppe bodenheizung garderobe übrig ...</td>\n",
       "      <td></td>\n",
       "      <td></td>\n",
       "      <td>fr heizgruppe konvektor lichtschacht she</td>\n",
       "    </tr>\n",
       "    <tr>\n",
       "      <th>999</th>\n",
       "      <td>unterlage 4 fach inkl revisionspläne unterlage...</td>\n",
       "      <td></td>\n",
       "      <td></td>\n",
       "      <td>1 a anlageteil bauleitung bewegen ca klappen l...</td>\n",
       "    </tr>\n",
       "  </tbody>\n",
       "</table>\n",
       "</div>"
      ],
      "text/plain": [
       "                                   header_preprocessed parent_preprocessed  \\\n",
       "995                   ts mitte steuerung treppenabgang                       \n",
       "996                                      angebotsblatt                       \n",
       "997                montage befestigung heizungsdämmung                       \n",
       "998  total heizgruppe bodenheizung garderobe übrig ...                       \n",
       "999  unterlage 4 fach inkl revisionspläne unterlage...                       \n",
       "\n",
       "    grandparent_preprocessed  \\\n",
       "995                            \n",
       "996                            \n",
       "997                            \n",
       "998                            \n",
       "999                            \n",
       "\n",
       "                                                 words  \n",
       "995  abdeckung ausführung ausgehen aussen bedienste...  \n",
       "996  abfallsammelfahrzeug anbieter anbieters aufbau...  \n",
       "997  abzukleben aluminium befestigen d dichtigkeits...  \n",
       "998           fr heizgruppe konvektor lichtschacht she  \n",
       "999  1 a anlageteil bauleitung bewegen ca klappen l...  "
      ]
     },
     "execution_count": 53,
     "metadata": {},
     "output_type": "execute_result"
    }
   ],
   "source": [
    "X = df[relevant_columns]\n",
    "X.tail()\n"
   ]
  },
  {
   "cell_type": "code",
   "execution_count": 54,
   "metadata": {},
   "outputs": [],
   "source": [
    "# get df, not series\n",
    "y_test = df.loc[:,['label']]\n",
    "y_test.loc[y_test['label'] == 'yes'] = 1\n",
    "y_test.loc[y_test['label'] == 'no'] = 0\n",
    "# convert to series\n",
    "y_test = y_test['label']"
   ]
  },
  {
   "cell_type": "code",
   "execution_count": 55,
   "metadata": {},
   "outputs": [
    {
     "name": "stdout",
     "output_type": "stream",
     "text": [
      "(1000, 7656)\n"
     ]
    }
   ],
   "source": [
    "words_tfidf = words_vec.transform(X['words'])\n",
    "header_tfidf = header_vec.transform(X['header_preprocessed'])\n",
    "parent_tfidf = parent_vec.transform(X['parent_preprocessed'])\n",
    "grandparent_tfidf = grandparent_vec.transform(X['grandparent_preprocessed'])\n",
    "\n",
    "X_test_union = scipy.sparse.hstack([\n",
    "    words_tfidf,\n",
    "    header_tfidf,\n",
    "    parent_tfidf,\n",
    "    grandparent_tfidf\n",
    "])\n",
    "\n",
    "print(X_test_union.shape)"
   ]
  },
  {
   "cell_type": "code",
   "execution_count": 56,
   "metadata": {},
   "outputs": [],
   "source": [
    "y_test_pred = final_model.predict(X_test_union)"
   ]
  },
  {
   "cell_type": "code",
   "execution_count": 57,
   "metadata": {},
   "outputs": [
    {
     "name": "stdout",
     "output_type": "stream",
     "text": [
      "[[960   9]\n",
      " [ 16  15]]\n",
      "              precision    recall  f1-score   support\n",
      "\n",
      "           0       0.98      0.99      0.99       969\n",
      "           1       0.62      0.48      0.55        31\n",
      "\n",
      "   micro avg       0.97      0.97      0.97      1000\n",
      "   macro avg       0.80      0.74      0.77      1000\n",
      "weighted avg       0.97      0.97      0.97      1000\n",
      "\n",
      "0.975\n"
     ]
    }
   ],
   "source": [
    "print(confusion_matrix(y_test, y_test_pred))\n",
    "print(classification_report(y_test,y_test_pred))  \n",
    "print(accuracy_score(y_test, y_test_pred))  "
   ]
  },
  {
   "cell_type": "code",
   "execution_count": 58,
   "metadata": {},
   "outputs": [],
   "source": [
    "# select second class only\n",
    "y_test_pred_proba = final_model.predict_proba(X_test_union)[:,1]"
   ]
  },
  {
   "cell_type": "code",
   "execution_count": 59,
   "metadata": {},
   "outputs": [
    {
     "data": {
      "text/plain": [
       "0.8506275175605047"
      ]
     },
     "execution_count": 59,
     "metadata": {},
     "output_type": "execute_result"
    }
   ],
   "source": [
    "roc_value = roc_auc_score(y_test, y_test_pred_proba)\n",
    "roc_value"
   ]
  },
  {
   "cell_type": "markdown",
   "metadata": {},
   "source": [
    "## Print Classifications"
   ]
  },
  {
   "cell_type": "code",
   "execution_count": 72,
   "metadata": {},
   "outputs": [
    {
     "data": {
      "text/html": [
       "<div>\n",
       "<style scoped>\n",
       "    .dataframe tbody tr th:only-of-type {\n",
       "        vertical-align: middle;\n",
       "    }\n",
       "\n",
       "    .dataframe tbody tr th {\n",
       "        vertical-align: top;\n",
       "    }\n",
       "\n",
       "    .dataframe thead th {\n",
       "        text-align: right;\n",
       "    }\n",
       "</style>\n",
       "<table border=\"1\" class=\"dataframe\">\n",
       "  <thead>\n",
       "    <tr style=\"text-align: right;\">\n",
       "      <th></th>\n",
       "      <th>id</th>\n",
       "      <th>header_preprocessed</th>\n",
       "      <th>parent_preprocessed</th>\n",
       "      <th>grandparent_preprocessed</th>\n",
       "      <th>words</th>\n",
       "      <th>label</th>\n",
       "      <th>pred</th>\n",
       "      <th>pred_proba</th>\n",
       "    </tr>\n",
       "  </thead>\n",
       "  <tbody>\n",
       "    <tr>\n",
       "      <th>0</th>\n",
       "      <td>101</td>\n",
       "      <td>spezifisch grundlage</td>\n",
       "      <td>grundlage</td>\n",
       "      <td></td>\n",
       "      <td>ausarbeitung generalplanerangebotes grundlage ...</td>\n",
       "      <td>0</td>\n",
       "      <td>0</td>\n",
       "      <td>0.381060</td>\n",
       "    </tr>\n",
       "    <tr>\n",
       "      <th>1</th>\n",
       "      <td>251</td>\n",
       "      <td>evaluationsphase</td>\n",
       "      <td>evaluation</td>\n",
       "      <td></td>\n",
       "      <td>10 2 3 4 5 6 7 aktivität angebot ausschreibung...</td>\n",
       "      <td>0</td>\n",
       "      <td>0</td>\n",
       "      <td>0.413371</td>\n",
       "    </tr>\n",
       "    <tr>\n",
       "      <th>2</th>\n",
       "      <td>509</td>\n",
       "      <td>ausschreibungsbedingung</td>\n",
       "      <td></td>\n",
       "      <td></td>\n",
       "      <td></td>\n",
       "      <td>1</td>\n",
       "      <td>0</td>\n",
       "      <td>0.377987</td>\n",
       "    </tr>\n",
       "    <tr>\n",
       "      <th>3</th>\n",
       "      <td>779</td>\n",
       "      <td>bauherr besteller eigentümer</td>\n",
       "      <td>100 organisation bauherr lage zweckbestimmung</td>\n",
       "      <td></td>\n",
       "      <td></td>\n",
       "      <td>0</td>\n",
       "      <td>0</td>\n",
       "      <td>0.377259</td>\n",
       "    </tr>\n",
       "    <tr>\n",
       "      <th>4</th>\n",
       "      <td>800</td>\n",
       "      <td>gas</td>\n",
       "      <td></td>\n",
       "      <td></td>\n",
       "      <td>110 380 bereich erstellen gasleitung grabenlän...</td>\n",
       "      <td>0</td>\n",
       "      <td>0</td>\n",
       "      <td>0.377910</td>\n",
       "    </tr>\n",
       "  </tbody>\n",
       "</table>\n",
       "</div>"
      ],
      "text/plain": [
       "    id           header_preprocessed  \\\n",
       "0  101          spezifisch grundlage   \n",
       "1  251              evaluationsphase   \n",
       "2  509       ausschreibungsbedingung   \n",
       "3  779  bauherr besteller eigentümer   \n",
       "4  800                           gas   \n",
       "\n",
       "                             parent_preprocessed grandparent_preprocessed  \\\n",
       "0                                      grundlage                            \n",
       "1                                     evaluation                            \n",
       "2                                                                           \n",
       "3  100 organisation bauherr lage zweckbestimmung                            \n",
       "4                                                                           \n",
       "\n",
       "                                               words  label  pred  pred_proba  \n",
       "0  ausarbeitung generalplanerangebotes grundlage ...      0     0    0.381060  \n",
       "1  10 2 3 4 5 6 7 aktivität angebot ausschreibung...      0     0    0.413371  \n",
       "2                                                         1     0    0.377987  \n",
       "3                                                         0     0    0.377259  \n",
       "4  110 380 bereich erstellen gasleitung grabenlän...      0     0    0.377910  "
      ]
     },
     "execution_count": 72,
     "metadata": {},
     "output_type": "execute_result"
    }
   ],
   "source": [
    "classifications = pd.concat([df.iloc[:,0], X, y_test, pd.Series(y_test_pred, name=\"pred\"), pd.Series(y_test_pred_proba, name=\"pred_proba\")], axis=1)\n",
    "classifications.head()"
   ]
  },
  {
   "cell_type": "code",
   "execution_count": 73,
   "metadata": {},
   "outputs": [
    {
     "data": {
      "text/html": [
       "<div>\n",
       "<style scoped>\n",
       "    .dataframe tbody tr th:only-of-type {\n",
       "        vertical-align: middle;\n",
       "    }\n",
       "\n",
       "    .dataframe tbody tr th {\n",
       "        vertical-align: top;\n",
       "    }\n",
       "\n",
       "    .dataframe thead th {\n",
       "        text-align: right;\n",
       "    }\n",
       "</style>\n",
       "<table border=\"1\" class=\"dataframe\">\n",
       "  <thead>\n",
       "    <tr style=\"text-align: right;\">\n",
       "      <th></th>\n",
       "      <th>id</th>\n",
       "      <th>header_preprocessed</th>\n",
       "      <th>parent_preprocessed</th>\n",
       "      <th>grandparent_preprocessed</th>\n",
       "      <th>words</th>\n",
       "      <th>label</th>\n",
       "      <th>pred</th>\n",
       "      <th>pred_proba</th>\n",
       "      <th>confusion_type</th>\n",
       "    </tr>\n",
       "  </thead>\n",
       "  <tbody>\n",
       "    <tr>\n",
       "      <th>0</th>\n",
       "      <td>101</td>\n",
       "      <td>spezifisch grundlage</td>\n",
       "      <td>grundlage</td>\n",
       "      <td></td>\n",
       "      <td>ausarbeitung generalplanerangebotes grundlage ...</td>\n",
       "      <td>0</td>\n",
       "      <td>0</td>\n",
       "      <td>0.381060</td>\n",
       "      <td>TN</td>\n",
       "    </tr>\n",
       "    <tr>\n",
       "      <th>1</th>\n",
       "      <td>251</td>\n",
       "      <td>evaluationsphase</td>\n",
       "      <td>evaluation</td>\n",
       "      <td></td>\n",
       "      <td>10 2 3 4 5 6 7 aktivität angebot ausschreibung...</td>\n",
       "      <td>0</td>\n",
       "      <td>0</td>\n",
       "      <td>0.413371</td>\n",
       "      <td>TN</td>\n",
       "    </tr>\n",
       "    <tr>\n",
       "      <th>2</th>\n",
       "      <td>509</td>\n",
       "      <td>ausschreibungsbedingung</td>\n",
       "      <td></td>\n",
       "      <td></td>\n",
       "      <td></td>\n",
       "      <td>1</td>\n",
       "      <td>0</td>\n",
       "      <td>0.377987</td>\n",
       "      <td>FN</td>\n",
       "    </tr>\n",
       "    <tr>\n",
       "      <th>3</th>\n",
       "      <td>779</td>\n",
       "      <td>bauherr besteller eigentümer</td>\n",
       "      <td>100 organisation bauherr lage zweckbestimmung</td>\n",
       "      <td></td>\n",
       "      <td></td>\n",
       "      <td>0</td>\n",
       "      <td>0</td>\n",
       "      <td>0.377259</td>\n",
       "      <td>TN</td>\n",
       "    </tr>\n",
       "    <tr>\n",
       "      <th>4</th>\n",
       "      <td>800</td>\n",
       "      <td>gas</td>\n",
       "      <td></td>\n",
       "      <td></td>\n",
       "      <td>110 380 bereich erstellen gasleitung grabenlän...</td>\n",
       "      <td>0</td>\n",
       "      <td>0</td>\n",
       "      <td>0.377910</td>\n",
       "      <td>TN</td>\n",
       "    </tr>\n",
       "  </tbody>\n",
       "</table>\n",
       "</div>"
      ],
      "text/plain": [
       "    id           header_preprocessed  \\\n",
       "0  101          spezifisch grundlage   \n",
       "1  251              evaluationsphase   \n",
       "2  509       ausschreibungsbedingung   \n",
       "3  779  bauherr besteller eigentümer   \n",
       "4  800                           gas   \n",
       "\n",
       "                             parent_preprocessed grandparent_preprocessed  \\\n",
       "0                                      grundlage                            \n",
       "1                                     evaluation                            \n",
       "2                                                                           \n",
       "3  100 organisation bauherr lage zweckbestimmung                            \n",
       "4                                                                           \n",
       "\n",
       "                                               words  label  pred  pred_proba  \\\n",
       "0  ausarbeitung generalplanerangebotes grundlage ...      0     0    0.381060   \n",
       "1  10 2 3 4 5 6 7 aktivität angebot ausschreibung...      0     0    0.413371   \n",
       "2                                                         1     0    0.377987   \n",
       "3                                                         0     0    0.377259   \n",
       "4  110 380 bereich erstellen gasleitung grabenlän...      0     0    0.377910   \n",
       "\n",
       "  confusion_type  \n",
       "0             TN  \n",
       "1             TN  \n",
       "2             FN  \n",
       "3             TN  \n",
       "4             TN  "
      ]
     },
     "execution_count": 73,
     "metadata": {},
     "output_type": "execute_result"
    }
   ],
   "source": [
    "confusion_type = [];\n",
    "for index, row in classifications.iterrows():\n",
    "    if row.label == 0 and row.pred == 0:\n",
    "        confusion_type.append('TN')\n",
    "    elif row.label == 1 and row.pred == 1: \n",
    "        confusion_type.append('TP')\n",
    "    elif row.label == 0 and row.pred == 1: \n",
    "        confusion_type.append('FP')\n",
    "    elif row.label == 1 and row.pred == 0: \n",
    "        confusion_type.append('FN')\n",
    "classifications = pd.concat([classifications, pd.Series(confusion_type, name='confusion_type')], axis=1)\n",
    "classifications.head()"
   ]
  },
  {
   "cell_type": "code",
   "execution_count": 82,
   "metadata": {},
   "outputs": [
    {
     "data": {
      "text/plain": [
       "[509,\n",
       " 24218,\n",
       " 28405,\n",
       " 84357,\n",
       " 114657,\n",
       " 119280,\n",
       " 130241,\n",
       " 168440,\n",
       " 199103,\n",
       " 254381,\n",
       " 272765,\n",
       " 279384,\n",
       " 302283,\n",
       " 308760,\n",
       " 319491,\n",
       " 320288]"
      ]
     },
     "execution_count": 82,
     "metadata": {},
     "output_type": "execute_result"
    }
   ],
   "source": [
    "classifications[classifications.confusion_type == 'FN']['id'].tolist()"
   ]
  },
  {
   "cell_type": "code",
   "execution_count": null,
   "metadata": {},
   "outputs": [],
   "source": [
    "classifications.to_csv('predictions_1000.csv')"
   ]
  },
  {
   "cell_type": "markdown",
   "metadata": {},
   "source": [
    "# select next trainingdata"
   ]
  },
  {
   "cell_type": "code",
   "execution_count": null,
   "metadata": {},
   "outputs": [],
   "source": [
    "results = []\n",
    "query = '''\n",
    "  SELECT *, GROUP_CONCAT(word.word SEPARATOR ' ') as words FROM chapter \n",
    "    INNER JOIN word ON chapter.id = word.chapter_id\n",
    "  WHERE topic_1_id = {0}\n",
    "  GROUP BY chapter.id\n",
    "  ORDER BY RAND()\n",
    "  LIMIT {1};\n",
    "'''\n",
    "\n",
    "\n",
    "for i in range(0, number_of_categories):\n",
    "    print('getting data for category {}'.format(i))\n",
    "    res = do_query(query.format(i, entries_per_category))\n",
    "    df = pd.DataFrame(res.fetchall())\n",
    "    df.columns = res.keys()\n",
    "    results.append(df)\n",
    "    \n",
    "df = pd.concat(results, ignore_index=True)\n",
    "df.head()"
   ]
  },
  {
   "cell_type": "markdown",
   "metadata": {},
   "source": [
    "Calculate tfidf based on classifiers from previous model"
   ]
  },
  {
   "cell_type": "code",
   "execution_count": null,
   "metadata": {},
   "outputs": [],
   "source": [
    "next_X = df[relevant_columns]\n",
    "words_tfidf = words_vec.transform(df['words'])\n",
    "header_tfidf = header_vec.transform(df['header_preprocessed'])\n",
    "parent_tfidf = parent_vec.transform(df['parent_preprocessed'])\n",
    "grandparent_tfidf = grandparent_vec.transform(df['grandparent_preprocessed'])\n",
    "\n",
    "X_next_union = scipy.sparse.hstack([\n",
    "    words_tfidf,\n",
    "    header_tfidf,\n",
    "    parent_tfidf,\n",
    "    grandparent_tfidf\n",
    "])\n",
    "\n",
    "union_features = words_vec.get_feature_names()\\\n",
    "               + header_vec.get_feature_names()\\\n",
    "               + parent_vec.get_feature_names()\\\n",
    "               + grandparent_vec.get_feature_names()\n",
    "\n",
    "\n",
    "print(len(union_features))\n",
    "print(X_next_union.shape) "
   ]
  },
  {
   "cell_type": "code",
   "execution_count": null,
   "metadata": {},
   "outputs": [],
   "source": [
    "y_next_pred_proba = final_model.predict_proba(X_next_union)[:,1]\n",
    "security = abs(y_next_pred_proba - 0.5) * 2\n",
    "security"
   ]
  },
  {
   "cell_type": "code",
   "execution_count": null,
   "metadata": {},
   "outputs": [],
   "source": [
    "df['security'] = security\n",
    "df = df.sort_values(by='security')\n",
    "df.head()"
   ]
  },
  {
   "cell_type": "markdown",
   "metadata": {},
   "source": [
    "## Evaluate"
   ]
  },
  {
   "cell_type": "code",
   "execution_count": null,
   "metadata": {},
   "outputs": [],
   "source": [
    "print('mean: {0}'.format(df['security'].mean()))\n",
    "print('median: {0}'.format(df['security'].median()))"
   ]
  },
  {
   "cell_type": "code",
   "execution_count": null,
   "metadata": {},
   "outputs": [],
   "source": [
    "grouped_sec = pd.DataFrame(df.groupby('topic_1_id')['security'].mean())\n",
    "grouped_sec['median'] = df.groupby('topic_1_id')['security'].median()\n",
    "grouped_sec= grouped_sec.sort_values('median', ascending=False)\n",
    "grouped_sec"
   ]
  },
  {
   "cell_type": "markdown",
   "metadata": {},
   "source": [
    "## Insert Trainingdata"
   ]
  },
  {
   "cell_type": "code",
   "execution_count": null,
   "metadata": {},
   "outputs": [],
   "source": [
    "counter = 0\n",
    "for i, d in df[0:entries_trainingdata].iterrows():\n",
    "    counter += 1\n",
    "    print('inserting trainingdata {0} of {1}'.format(counter, len(df[0:entries_trainingdata])))\n",
    "    try:\n",
    "        insert_trainingdata_from_chapter(\n",
    "            d,\n",
    "            current_category,\n",
    "            current_round + 1,\n",
    "            d['topic_1_id'] == zk_category_id\n",
    "        )\n",
    "    except: \n",
    "        e = sys.exc_info()[0]\n",
    "        print(e)"
   ]
  },
  {
   "cell_type": "markdown",
   "metadata": {},
   "source": [
    "# Use model for all chapters"
   ]
  },
  {
   "cell_type": "code",
   "execution_count": null,
   "metadata": {},
   "outputs": [],
   "source": [
    "query = '''\n",
    "    select *, group_concat(word.word separator ' ') as words from chapter \n",
    "    inner join word on chapter.id = word.chapter_id\n",
    "    group by chapter.id\n",
    "'''"
   ]
  },
  {
   "cell_type": "code",
   "execution_count": null,
   "metadata": {},
   "outputs": [],
   "source": [
    "res = do_query(query)\n",
    "df = pd.DataFrame(res.fetchall())\n",
    "df.columns = res.keys()\n",
    "df.head()"
   ]
  },
  {
   "cell_type": "code",
   "execution_count": null,
   "metadata": {},
   "outputs": [],
   "source": [
    "X = df[relevant_columns]\n",
    "X.tail()"
   ]
  },
  {
   "cell_type": "code",
   "execution_count": null,
   "metadata": {},
   "outputs": [],
   "source": [
    "words_tfidf = words_vec.transform(X['words'])\n",
    "header_tfidf = header_vec.transform(X['header_preprocessed'])\n",
    "parent_tfidf = parent_vec.transform(X['parent_preprocessed'])\n",
    "grandparent_tfidf = grandparent_vec.transform(X['grandparent_preprocessed'])\n",
    "\n",
    "X_union = scipy.sparse.hstack([\n",
    "    words_tfidf,\n",
    "    header_tfidf,\n",
    "    parent_tfidf,\n",
    "    grandparent_tfidf\n",
    "])\n",
    "\n",
    "print(X_union.shape)"
   ]
  },
  {
   "cell_type": "code",
   "execution_count": null,
   "metadata": {},
   "outputs": [],
   "source": [
    "y = classifier.predict(X_union)"
   ]
  },
  {
   "cell_type": "code",
   "execution_count": null,
   "metadata": {},
   "outputs": [],
   "source": [
    "len(df.loc[df['y'] == 1])"
   ]
  },
  {
   "cell_type": "code",
   "execution_count": null,
   "metadata": {},
   "outputs": [],
   "source": [
    "df.loc[df['y'] == 1]"
   ]
  },
  {
   "cell_type": "code",
   "execution_count": null,
   "metadata": {},
   "outputs": [],
   "source": [
    "df.loc[df['y'] == 1].to_csv('found_zk.csv')"
   ]
  },
  {
   "cell_type": "markdown",
   "metadata": {},
   "source": [
    "## plot ROC curve\n"
   ]
  },
  {
   "cell_type": "code",
   "execution_count": null,
   "metadata": {},
   "outputs": [],
   "source": [
    "# select second class only\n",
    "y_test_pred_proba = final_model.predict_proba(X_test_union)[:,1]\n",
    "\n",
    "y_train_pred = final_model.predict(X_train_union)\n",
    "y_train_pred_proba = final_model.predict_proba(X_train_union)[:,1]"
   ]
  },
  {
   "cell_type": "code",
   "execution_count": null,
   "metadata": {},
   "outputs": [],
   "source": [
    "roc_value = roc_auc_score(y_test, y_pred_proba)\n",
    "roc_value"
   ]
  },
  {
   "cell_type": "code",
   "execution_count": null,
   "metadata": {},
   "outputs": [],
   "source": [
    "def evaluate_model(predictions, probs, train_predictions, train_probs):\n",
    "    \"\"\"Compare machine learning model to baseline performance.\n",
    "    Computes statistics and shows ROC curve.\"\"\"\n",
    "    \n",
    "    baseline = {}\n",
    "        \n",
    "    baseline['recall'] = recall_score(test_labels, \n",
    "                                     [1 for _ in range(len(test_labels))])\n",
    "    baseline['precision'] = precision_score(test_labels, \n",
    "                                      [1 for _ in range(len(test_labels))])\n",
    "    baseline['roc'] = 0.5\n",
    "    \n",
    "    results = {}\n",
    "    \n",
    "    results['recall'] = recall_score(test_labels, predictions)\n",
    "    results['precision'] = precision_score(test_labels, predictions)\n",
    "    results['roc'] = roc_auc_score(test_labels, probs)\n",
    "    \n",
    "    train_results = {}\n",
    "    train_results['recall'] = recall_score(train_labels, train_predictions)\n",
    "    train_results['precision'] = precision_score(train_labels, train_predictions)\n",
    "    train_results['roc'] = roc_auc_score(train_labels, train_probs)\n",
    "    \n",
    "    for metric in ['recall', 'precision', 'roc']:\n",
    "        print(f'{metric.capitalize()} Baseline: {round(baseline[metric], 2)} Test: {round(results[metric], 2)} Train: {round(train_results[metric], 2)}')\n",
    "    \n",
    "    # Calculate false positive rates and true positive rates\n",
    "    base_fpr, base_tpr, _ = roc_curve(test_labels, [1 for _ in range(len(test_labels))])\n",
    "    model_fpr, model_tpr, _ = roc_curve(test_labels, probs)\n",
    "\n",
    "    plt.figure(figsize = (8, 6))\n",
    "    plt.rcParams['font.size'] = 16\n",
    "    \n",
    "    # Plot both curves\n",
    "    plt.plot(base_fpr, base_tpr, 'b', label = 'baseline')\n",
    "    plt.plot(model_fpr, model_tpr, 'r', label = 'model')\n",
    "    plt.legend();\n",
    "    plt.xlabel('False Positive Rate'); \n",
    "    plt.ylabel('True Positive Rate'); plt.title('ROC Curves');\n",
    "    plt.show();"
   ]
  },
  {
   "cell_type": "code",
   "execution_count": null,
   "metadata": {},
   "outputs": [],
   "source": [
    "test_labels = y_test\n",
    "train_labels = y_train\n",
    "evaluate_model(y_test_pred, y_test_pred_proba, y_train_pred, y_train_pred_proba)"
   ]
  },
  {
   "cell_type": "code",
   "execution_count": null,
   "metadata": {},
   "outputs": [],
   "source": []
  }
 ],
 "metadata": {
  "kernelspec": {
   "display_name": "Python 3",
   "language": "python",
   "name": "python3"
  },
  "language_info": {
   "codemirror_mode": {
    "name": "ipython",
    "version": 3
   },
   "file_extension": ".py",
   "mimetype": "text/x-python",
   "name": "python",
   "nbconvert_exporter": "python",
   "pygments_lexer": "ipython3",
   "version": "3.7.1"
  },
  "toc": {
   "base_numbering": 1,
   "nav_menu": {},
   "number_sections": false,
   "sideBar": false,
   "skip_h1_title": false,
   "title_cell": "Table of Contents",
   "title_sidebar": "Contents",
   "toc_cell": false,
   "toc_position": {},
   "toc_section_display": false,
   "toc_window_display": false
  }
 },
 "nbformat": 4,
 "nbformat_minor": 2
}
